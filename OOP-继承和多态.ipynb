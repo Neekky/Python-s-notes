{
 "cells": [
  {
   "cell_type": "markdown",
   "metadata": {},
   "source": [
    "# 继承和多态\n",
    "在OOP程序设计中，当我们定义一个class的时候，可以从某个现有的class继承。\n",
    "- 作用：减少代码，增加代码的复用功能，同时可以设置类与类直接的关系。\n",
    "- **新的class，用于继承的类，称为子类**（Subclass），派生类。\n",
    "- **被继承的class称为基类、父类或超类**（Base class、Super class）。\n",
    "- 继承与被继承一定存在一个is - a 关系\n",
    "比如，我们已经编写了一个名为Animal的class，有一个run()方法可以直接打印："
   ]
  },
  {
   "cell_type": "markdown",
   "metadata": {},
   "source": []
  },
  {
   "cell_type": "code",
   "execution_count": 5,
   "metadata": {},
   "outputs": [],
   "source": [
    "# 括号内的object可写可不写，默认为object\n",
    "class Animal(object):\n",
    "    def run(self):\n",
    "        print('Animal is running...')"
   ]
  },
  {
   "cell_type": "markdown",
   "metadata": {},
   "source": [
    "当我们需要编写Dog和Cat类时，就可以直接从Animal类继承："
   ]
  },
  {
   "cell_type": "code",
   "execution_count": 6,
   "metadata": {},
   "outputs": [],
   "source": [
    "class Animal(object):\n",
    "    def run(self):\n",
    "        print('Animal is running...')\n",
    "class Dog(Animal):\n",
    "    pass\n",
    "\n",
    "class Cat(Animal):\n",
    "    pass"
   ]
  },
  {
   "cell_type": "markdown",
   "metadata": {},
   "source": [
    "对于Dog来说，Animal就是它的父类，对于Animal来说，Dog就是它的子类。Cat和Dog类似。\n",
    "\n",
    "继承有什么好处？最大的好处是子类获得了父类的全部功能。由于Animial实现了run()方法，因此，Dog和Cat作为它的子类，什么事也没干，就自动拥有了run()方法："
   ]
  },
  {
   "cell_type": "code",
   "execution_count": 7,
   "metadata": {},
   "outputs": [
    {
     "name": "stdout",
     "output_type": "stream",
     "text": [
      "Animal is running...\n",
      "Animal is running...\n"
     ]
    }
   ],
   "source": [
    "dog=Dog()\n",
    "dog.run()\n",
    "cat=Cat()\n",
    "cat.run()"
   ]
  },
  {
   "cell_type": "markdown",
   "metadata": {},
   "source": [
    "当然，也可以对子类增加一些方法，比如Dog类："
   ]
  },
  {
   "cell_type": "code",
   "execution_count": 8,
   "metadata": {},
   "outputs": [
    {
     "name": "stdout",
     "output_type": "stream",
     "text": [
      "Eating meat...\n"
     ]
    }
   ],
   "source": [
    "class Dog(Animal):\n",
    "    def run(self):\n",
    "        print('Dog is running...')\n",
    "    def eat(self):\n",
    "        print('Eating meat...')\n",
    "dog=Dog()\n",
    "dog.eat()"
   ]
  },
  {
   "cell_type": "markdown",
   "metadata": {},
   "source": [
    "继承的第二个好处需要我们对代码做一点改进。你看到了，无论是Dog还是Cat，它们run()的时候，显示的都是Animal is running...，符合逻辑的做法是分别显示Dog is running...和Cat is running...，因此，对Dog和Cat类改进如下："
   ]
  },
  {
   "cell_type": "code",
   "execution_count": 9,
   "metadata": {},
   "outputs": [
    {
     "name": "stdout",
     "output_type": "stream",
     "text": [
      "Dog is running...\n",
      "Cat is running...\n"
     ]
    }
   ],
   "source": [
    "class Dog(Animal):\n",
    "\n",
    "    def run(self):\n",
    "        print('Dog is running...')\n",
    "\n",
    "class Cat(Animal):\n",
    "\n",
    "    def run(self):\n",
    "        print('Cat is running...')\n",
    "dog=Dog()\n",
    "dog.run()\n",
    "cat=Cat()\n",
    "cat.run()"
   ]
  },
  {
   "cell_type": "markdown",
   "metadata": {},
   "source": [
    "当子类和父类都存在相同的run()方法时，我们说，**子类的run()覆盖了父类的run()**，在代码运行的时候，总是会调用子类的run()。这样，我们就获得了继承的另一个好处：多态。\n",
    "\n",
    "要理解什么是多态，我们首先要对数据类型再作一点说明。**当我们定义一个class的时候，我们实际上就定义了一种数据类型**。我们定义的数据类型和Python自带的数据类型，比如str、list、dict没什么两样："
   ]
  },
  {
   "cell_type": "code",
   "execution_count": 10,
   "metadata": {},
   "outputs": [],
   "source": [
    "a = list() # a是list类型\n",
    "b = Animal() # b是Animal类型\n",
    "c = Dog() # c是Dog类型"
   ]
  },
  {
   "cell_type": "markdown",
   "metadata": {},
   "source": [
    "判断一个变量是否是某个类型可以用isinstance()判断："
   ]
  },
  {
   "cell_type": "code",
   "execution_count": 11,
   "metadata": {},
   "outputs": [
    {
     "name": "stdout",
     "output_type": "stream",
     "text": [
      "True\n",
      "True\n",
      "True\n"
     ]
    }
   ],
   "source": [
    "print(isinstance(a,list))\n",
    "print(isinstance(b,Animal))\n",
    "print(isinstance(c,Dog))"
   ]
  },
  {
   "cell_type": "markdown",
   "metadata": {},
   "source": [
    "看来a、b、c确实对应着list、Animal、Dog这3种类型。\n",
    "\n",
    "但是等等，试试："
   ]
  },
  {
   "cell_type": "code",
   "execution_count": 12,
   "metadata": {},
   "outputs": [
    {
     "data": {
      "text/plain": [
       "True"
      ]
     },
     "execution_count": 12,
     "metadata": {},
     "output_type": "execute_result"
    }
   ],
   "source": [
    "isinstance(c, Animal)"
   ]
  },
  {
   "cell_type": "markdown",
   "metadata": {},
   "source": [
    "看来c不仅仅是Dog，c还是Animal！\n",
    "\n",
    "不过仔细想想，这是有道理的，因为Dog是从Animal继承下来的，当我们创建了一个Dog的实例c时，我们认为c的数据类型是Dog没错，但c同时也是Animal也没错，Dog本来就是Animal的一种！\n",
    "\n",
    "所以，在继承关系中，如果一个实例的数据类型是某个子类，那它的数据类型也可以被看做是父类。但是，反过来就不行："
   ]
  },
  {
   "cell_type": "code",
   "execution_count": 18,
   "metadata": {},
   "outputs": [
    {
     "data": {
      "text/plain": [
       "False"
      ]
     },
     "execution_count": 18,
     "metadata": {},
     "output_type": "execute_result"
    }
   ],
   "source": [
    "b=Animal()\n",
    "isinstance(b,Dog)"
   ]
  },
  {
   "cell_type": "markdown",
   "metadata": {},
   "source": [
    "Dog可以看成Animal，但Animal不可以看成Dog。\n",
    "\n",
    "要理解多态的好处，我们还需要再编写一个函数，这个函数接受一个Animal类型的变量："
   ]
  },
  {
   "cell_type": "code",
   "execution_count": 19,
   "metadata": {},
   "outputs": [],
   "source": [
    "def run_twice(animal):\n",
    "    animal.run()\n",
    "    animal.run()"
   ]
  },
  {
   "cell_type": "markdown",
   "metadata": {},
   "source": [
    "当传入Animal的实例时，run_twice()就打印出："
   ]
  },
  {
   "cell_type": "code",
   "execution_count": 20,
   "metadata": {},
   "outputs": [
    {
     "name": "stdout",
     "output_type": "stream",
     "text": [
      "Animal is running...\n",
      "Animal is running...\n"
     ]
    }
   ],
   "source": [
    "run_twice(Animal())"
   ]
  },
  {
   "cell_type": "markdown",
   "metadata": {},
   "source": [
    "当我们传入Dog和Cat的实例时，run_twice()就打印出："
   ]
  },
  {
   "cell_type": "code",
   "execution_count": 22,
   "metadata": {},
   "outputs": [
    {
     "name": "stdout",
     "output_type": "stream",
     "text": [
      "Dog is running...\n",
      "Dog is running...\n",
      "Cat is running...\n",
      "Cat is running...\n"
     ]
    }
   ],
   "source": [
    "run_twice(Dog())\n",
    "run_twice(Cat())"
   ]
  },
  {
   "cell_type": "markdown",
   "metadata": {},
   "source": [
    "看上去没啥意思，但是仔细想想，现在，如果我们再定义一个Tortoise类型，也从Animal派生："
   ]
  },
  {
   "cell_type": "code",
   "execution_count": 23,
   "metadata": {},
   "outputs": [],
   "source": [
    "class Tortoise(Animal):\n",
    "    def run(self):\n",
    "        print('Tortoise is running slowly...')"
   ]
  },
  {
   "cell_type": "markdown",
   "metadata": {},
   "source": [
    "当我们调用run_twice()时，传入Tortoise的实例："
   ]
  },
  {
   "cell_type": "code",
   "execution_count": 24,
   "metadata": {},
   "outputs": [
    {
     "name": "stdout",
     "output_type": "stream",
     "text": [
      "Tortoise is running slowly...\n",
      "Tortoise is running slowly...\n"
     ]
    }
   ],
   "source": [
    "run_twice(Tortoise())"
   ]
  },
  {
   "cell_type": "markdown",
   "metadata": {},
   "source": [
    "你会发现，新增一个Animal的子类，不必对run_twice()做任何修改，实际上，任何依赖Animal作为参数的函数或者方法都可以不加修改地正常运行，原因就在于多态。\n",
    "\n",
    "多态的好处就是，当我们需要传入Dog、Cat、Tortoise……时，我们只需要接收Animal类型就可以了，因为Dog、Cat、Tortoise……都是Animal类型，然后，按照Animal类型进行操作即可。\n",
    "\n",
    "由于Animal类型有run()方法，因此，传入的任意类型，只要是Animal类或者子类，就会自动调用实际类型的run()方法，这就是多态的意思：\n",
    "\n",
    "对于一个变量，我们只需要知道它是Animal类型，无需确切地知道它的子类型，就可以放心地调用run()方法，而具体调用的run()方法是作用在Animal、Dog、Cat还是Tortoise对象上，由运行时该对象的确切类型决定。\n",
    "\n",
    "这就是多态真正的威力：调用方只管调用，不管细节，而当我们新增一种Animal的子类时，只要确保run()方法编写正确，不用管原来的代码是如何调用的。这就是著名的“开闭”原则：\n",
    "- 对扩展开放：允许新增Animal子类；\n",
    "- 对修改封闭：不需要修改依赖Animal类型的run_twice()等函数。"
   ]
  },
  {
   "cell_type": "markdown",
   "metadata": {},
   "source": [
    "继承还可以一级一级地继承下来，就好比从爷爷到爸爸、再到儿子这样的关系。而任何类，最终都可以追溯到根类object，这些继承关系看上去就像一颗倒着的树。比如如下的继承树："
   ]
  },
  {
   "cell_type": "markdown",
   "metadata": {},
   "source": [
    "            object     \n",
    "     │                │\n",
    "     ▼                ▼\n",
    "    Animal             Plant    \n",
    "  │      │         │      │\n",
    "  ▼      ▼         ▼      ▼\n",
    " Dog      Cat       Tree     Flower  "
   ]
  },
  {
   "cell_type": "markdown",
   "metadata": {},
   "source": [
    "# 图灵学院继承-笔记\n",
    "### 继承的特征\n",
    "   - 所有的类都继承自object类，即所有的类都是object类的子类\n",
    "   - 子类一旦继承父类，则可以使用父类中除私有成员外的所有内容\n",
    "   - 子类继承父类后并没有将父类成员完全赋值到子类中，而是通过引用关系指向父类。\n",
    "   - 子类中可以定义独有的成员属性和方法。\n",
    "   - 子类中定义的成员和父类成员如果相同，则优先使用子类成员\n",
    "   - 子类如果想扩充父类的方法，可以在定义新方法的同时访问父类成员来进行代码重用，可以使用  父类名.父类成员  的格式来调用父类成员。也可以使用  super().父类成员  的格式来调用\n",
    "\n",
    "### 继承变量函数的查找顺序问题\n",
    "- 优先查找自己的变量\n",
    "- 没有则查找父类\n",
    "- 构造函数如果本类中没有定义，则自动查找调用父类构造函数\n",
    "- 如果本类有定义，则不再继续向上查找\n",
    "\n",
    "### 什么是构造函数\n",
    "- 是一种特殊的函数，"
   ]
  },
  {
   "cell_type": "markdown",
   "metadata": {},
   "source": [
    "子类如果想扩充父类的方法，可以在定义新方法的同时访问父类成员来进行代码重用，可以使用  [**父类名.父类成员**]  的格式来调用父类成员。也可以使用  [**super().父类成员**]  的格式来调用"
   ]
  },
  {
   "cell_type": "markdown",
   "metadata": {},
   "source": [
    "### 子类扩充父类功能的案例\n",
    "定义一个person类，人有工作的函数，老师也有工作单函数，老师的工作还需要讲课"
   ]
  },
  {
   "cell_type": "code",
   "execution_count": 17,
   "metadata": {},
   "outputs": [],
   "source": [
    "class Person():\n",
    "    name='No name'\n",
    "    age='18'\n",
    "    __score=0 # 将考试成绩定义为私有变量\n",
    "    _petname='andy'\n",
    "    def sleep(self):\n",
    "        print('sleeping...')\n",
    "    def work(self):\n",
    "        print('make money')\n",
    "class Teacher(Person):\n",
    "    teacher_id='9243'\n",
    "    name='mary'\n",
    "    def make_test(self):\n",
    "        print('attention')\n",
    "    def work(self):\n",
    "        # 扩充父类的功能只需要调用父类相应的函数\n",
    "        Person.work(self)\n",
    "        self.make_test()"
   ]
  },
  {
   "cell_type": "code",
   "execution_count": 26,
   "metadata": {},
   "outputs": [
    {
     "name": "stdout",
     "output_type": "stream",
     "text": [
      "make money\n",
      "attention\n"
     ]
    }
   ],
   "source": [
    "t=Teacher()\n",
    "t.work()"
   ]
  },
  {
   "cell_type": "markdown",
   "metadata": {},
   "source": [
    "### 用super()方法调用父类"
   ]
  },
  {
   "cell_type": "code",
   "execution_count": 27,
   "metadata": {},
   "outputs": [],
   "source": [
    "class Teacher(Person):\n",
    "    teacher_id='9243'\n",
    "    name='mary'\n",
    "    def make_test(self):\n",
    "        print('attention')\n",
    "    def work(self):\n",
    "        # 用super()方法调用父类\n",
    "        super().work()\n",
    "        self.make_test() "
   ]
  },
  {
   "cell_type": "code",
   "execution_count": 28,
   "metadata": {},
   "outputs": [
    {
     "name": "stdout",
     "output_type": "stream",
     "text": [
      "make money\n",
      "attention\n"
     ]
    }
   ],
   "source": [
    "t=Teacher()\n",
    "t.work()"
   ]
  },
  {
   "cell_type": "markdown",
   "metadata": {},
   "source": [
    "# 构造函数的概念\n",
    "**\\__init__**就是构造函数,每次实例化的时候，第一个被调用,因为主要工作是进行初始化，所以得名.\n",
    "\n",
    "- 这是一类特殊的函数，在类进行实例化之前进行调用。\n",
    "- 如果定义了构造函数，则函数实例化时使用构造函数，不查找父类构造函数。\n",
    "- 如果类没定义构造函数，则会自动查找父类构造函数。\n",
    "- 如果子类没定义构造函数，而父类的构造函数带参数，则子类在构造对象时，参数应该按父类参数构造。\n",
    "\n",
    "### 构造函数的作用\n",
    "构造函数主要用来在**创建对象时完成对对象属性的一些初始化等操作**, 当**创建对象时, 对象会自动调用它的构造函数**。\n",
    "\n",
    "一般来说, 构造函数有以下三个方面的作用:\n",
    "- 给创建的对象建立一个标识符;\n",
    "- 为对象数据成员开辟内存空间;\n",
    "- 完成对象数据成员的初始化。\n",
    "\n",
    "### 默认构造函数\n",
    "当用户没有显式的去定义构造函数时, 编译器会为类生成一个默认的构造函数, 称为 \"默认构造函数\", 默认构造函数不能完成对象数据成员的初始化, 只能给对象创建一标识符, 并为对象中的数据成员开辟一定的内存空间。\n",
    "\n",
    "\n",
    "### 构造函数的特点\n",
    "无论是用户自定义的构造函数还是默认构造函数都主要有以下特点:\n",
    " - ①. 在对象被创建时自动执行;\n",
    " - ②. 构造函数的函数名与类名相同;\n",
    " - ③. 没有返回值类型、也没有返回值;\n",
    " - ④. 构造函数不能被显式调用。\n",
    "\n",
    "构造函数的写法是固定的"
   ]
  },
  {
   "cell_type": "markdown",
   "metadata": {},
   "source": [
    "## 使用构造函数和不使用的区别\n",
    "上边使用了构造函数，发现给类创建实例时自动执行了代码。\n",
    "\n",
    "而下边未使用构造函数，需要额外调用一次函数。"
   ]
  },
  {
   "cell_type": "code",
   "execution_count": 38,
   "metadata": {},
   "outputs": [
    {
     "name": "stdout",
     "output_type": "stream",
     "text": [
      "i am init a dog\n",
      "**********\n",
      "i am init a dog\n"
     ]
    }
   ],
   "source": [
    "#\\__init__就是构造函数\n",
    "# 每次实例化的时候，第一个被自动调用\n",
    "# 因为主要工作是进行初始化，所以得名\n",
    "class Dog():\n",
    "    \n",
    "    def __init__(self ):\n",
    "        print('i am init a dog')\n",
    "# 实例化的时候，括号内的参数需要跟构造函数参数相匹配        \n",
    "koko=Dog()\n",
    "print('*'*10)\n",
    "class Dog():\n",
    "    \n",
    "    def init(self ):\n",
    "        print('i am init a dog')  \n",
    "koko=Dog()\n",
    "koko.init()"
   ]
  },
  {
   "cell_type": "code",
   "execution_count": 45,
   "metadata": {},
   "outputs": [
    {
     "name": "stdout",
     "output_type": "stream",
     "text": [
      "i am init a koko\n"
     ]
    }
   ],
   "source": [
    "class Dog():\n",
    "    \n",
    "    def __init__(self,name):\n",
    "        self.name=name\n",
    "        print('i am init a '+self.name)\n",
    "# 实例化的时候，括号内的参数需要跟构造函数参数相匹配        \n",
    "koko=Dog('koko')"
   ]
  },
  {
   "cell_type": "markdown",
   "metadata": {},
   "source": [
    "## 继承中的构造函数\n"
   ]
  },
  {
   "cell_type": "code",
   "execution_count": 53,
   "metadata": {},
   "outputs": [
    {
     "name": "stdout",
     "output_type": "stream",
     "text": [
      "dog dog\n",
      "paxing dongwu\n"
     ]
    }
   ],
   "source": [
    "class Animal():\n",
    "    pass\n",
    "\n",
    "class paxing():\n",
    "    def __init__(self):\n",
    "        print('paxing dongwu')\n",
    "\n",
    "class Dog(paxing):\n",
    "    def __init__(self):\n",
    "        print('dog dog')\n",
    "# 实例化的时候自动调用了Dog的构造函数。\n",
    "# 因为在Dog找到了构造函数，则不在查找父类的构造函数\n",
    "kaka=Dog()\n",
    "\n",
    "# 定一个没有构造函数的猫类\n",
    "class Cat(paxing):\n",
    "    def run():\n",
    "        pass\n",
    "# cat类没有定义构造函数，所以会向上查找父类构造函数\n",
    "# 在paxing类中查找到了构造函数，所以停止向上查找\n",
    "c = Cat()"
   ]
  },
  {
   "cell_type": "markdown",
   "metadata": {},
   "source": [
    "# super方法\n",
    "- 一般都将super看成是父类的意思。\n",
    "- 但是super不是关键字，而是一个类\n",
    "- super的作用是获取 MRO（方法解析顺序） 列表中的第一个类，第一个类一般都是父类。\n",
    "- super与父类之间没任何实质性关系，但是通过super可以调用到父类\n"
   ]
  },
  {
   "cell_type": "code",
   "execution_count": 58,
   "metadata": {},
   "outputs": [
    {
     "name": "stdout",
     "output_type": "stream",
     "text": [
      "<class 'type'>\n",
      "Help on class super in module builtins:\n",
      "\n",
      "class super(object)\n",
      " |  super() -> same as super(__class__, <first argument>)\n",
      " |  super(type) -> unbound super object\n",
      " |  super(type, obj) -> bound super object; requires isinstance(obj, type)\n",
      " |  super(type, type2) -> bound super object; requires issubclass(type2, type)\n",
      " |  Typical use to call a cooperative superclass method:\n",
      " |  class C(B):\n",
      " |      def meth(self, arg):\n",
      " |          super().meth(arg)\n",
      " |  This works for class methods too:\n",
      " |  class C(B):\n",
      " |      @classmethod\n",
      " |      def cmeth(cls, arg):\n",
      " |          super().cmeth(arg)\n",
      " |  \n",
      " |  Methods defined here:\n",
      " |  \n",
      " |  __get__(self, instance, owner, /)\n",
      " |      Return an attribute of instance, which is of type owner.\n",
      " |  \n",
      " |  __getattribute__(self, name, /)\n",
      " |      Return getattr(self, name).\n",
      " |  \n",
      " |  __init__(self, /, *args, **kwargs)\n",
      " |      Initialize self.  See help(type(self)) for accurate signature.\n",
      " |  \n",
      " |  __new__(*args, **kwargs) from builtins.type\n",
      " |      Create and return a new object.  See help(type) for accurate signature.\n",
      " |  \n",
      " |  __repr__(self, /)\n",
      " |      Return repr(self).\n",
      " |  \n",
      " |  ----------------------------------------------------------------------\n",
      " |  Data descriptors defined here:\n",
      " |  \n",
      " |  __self__\n",
      " |      the instance invoking super(); may be None\n",
      " |  \n",
      " |  __self_class__\n",
      " |      the type of the instance invoking super(); may be None\n",
      " |  \n",
      " |  __thisclass__\n",
      " |      the class invoking super()\n",
      "\n"
     ]
    }
   ],
   "source": [
    "print(type(super))\n",
    "help(super)"
   ]
  },
  {
   "cell_type": "markdown",
   "metadata": {},
   "source": [
    "## 小练习\n",
    "指定超类：做一个过滤序列的通用类，再做一个继承的子类，扩展功能。"
   ]
  },
  {
   "cell_type": "code",
   "execution_count": 52,
   "metadata": {},
   "outputs": [],
   "source": [
    "\n",
    "class Filter(object):\n",
    "    def init(self):\n",
    "        self.blocked=[]# 在括号内输入需要过滤的数字\n",
    "    def filter(self,sequence):\n",
    "        return(x for x in sequence if x != self.blocked)\n",
    "# 定义一个新类，用于过滤字符串\n",
    "class filter_str(Filter):\n",
    "    def init(self):\n",
    "        self.blocked=['a']\n",
    "\n",
    "f=Filter()\n",
    "f.init()\n",
    "f.filter([2,4,5,6,7,2,3])\n",
    "\n",
    "\n",
    "s=filter_str()\n",
    "s.init()\n",
    "s.filter=(['a','b','f','a','s'])"
   ]
  }
 ],
 "metadata": {
  "kernelspec": {
   "display_name": "Python 3",
   "language": "python",
   "name": "python3"
  },
  "language_info": {
   "codemirror_mode": {
    "name": "ipython",
    "version": 3
   },
   "file_extension": ".py",
   "mimetype": "text/x-python",
   "name": "python",
   "nbconvert_exporter": "python",
   "pygments_lexer": "ipython3",
   "version": "3.6.5"
  }
 },
 "nbformat": 4,
 "nbformat_minor": 2
}
