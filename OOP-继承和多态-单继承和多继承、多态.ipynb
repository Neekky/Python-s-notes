{
 "cells": [
  {
   "cell_type": "markdown",
   "metadata": {},
   "source": [
    "## 单继承和多继承\n",
    "    - 单继承：每个类只能继承一个类\n",
    "    - 多继承：每个类允许继承多个类\n",
    "\n",
    "- 单继承和多继承的优缺点\n",
    "    - 单继承：\n",
    "        优点：传承有序逻辑清晰，语法简单隐患少\n",
    "        缺点：功能不能无限扩展，只能在当前唯一的继承链中扩展\n",
    "    - 多继承：\n",
    "        优点：类的功能扩展方便\n",
    "        缺点：继承关系混乱"
   ]
  },
  {
   "cell_type": "code",
   "execution_count": 18,
   "metadata": {},
   "outputs": [
    {
     "name": "stdout",
     "output_type": "stream",
     "text": [
      "I am flying...\n",
      "I am swimming...\n",
      "Working...\n",
      "I am swimming...\n"
     ]
    }
   ],
   "source": [
    "# 多继承的例子\n",
    "# 子类可以直接拥有父类的属性和方法，私有属性和方法除外\n",
    "class Fish():\n",
    "    def __init__(self,name):\n",
    "        self.name=name\n",
    "\n",
    "    def swim(self):\n",
    "        print('I am swimming...')\n",
    "\n",
    "class Bird():\n",
    "    def __init__(self,name):\n",
    "        self.name=name\n",
    "\n",
    "    def fly(self):\n",
    "        print('I am flying...')\n",
    "\n",
    "class Person():\n",
    "    def __init__(self,name):\n",
    "        self.name=name\n",
    "\n",
    "    def work(self):\n",
    "        print('Working...')\n",
    "\n",
    "class SuperMan(Person,Bird,Fish):\n",
    "    pass\n",
    "\n",
    "class SwimMan(Person,Fish):\n",
    "    def __init__(self,name):\n",
    "        self.name=name\n",
    "\n",
    "s=SuperMan('name')\n",
    "s.fly()\n",
    "s.swim()\n",
    "\n",
    "w=SwimMan('nana')\n",
    "w.work()\n",
    "w.swim()"
   ]
  },
  {
   "cell_type": "code",
   "execution_count": 19,
   "metadata": {},
   "outputs": [],
   "source": [
    "# 单继承的例子\n",
    "\n",
    "class Person():\n",
    "    def __init__(self,name):\n",
    "        self.name=name\n",
    "\n",
    "    def work(self):\n",
    "        print('Working...')\n",
    "\n",
    "class Student(Person):\n",
    "    pass"
   ]
  },
  {
   "cell_type": "markdown",
   "metadata": {},
   "source": [
    "菱形继承/钻石继承问题\n",
    "- 多个子类继承自同一个父类，这些子类又被同一个类继承，于是继承关系图形成一个菱形图谱。\n",
    "- MOR.方法解析顺序（Method Resolution Order）https://www.cnblogs.com/whatisfantasy/p/6046991.html\n",
    "- 关于多继承的MRO\n",
    "    - MRO就是多继承中，用于保存继承顺序的一个列表\n",
    "    - python本身采用C3算法来 \n",
    "    - MRO列表的计算原则：\n",
    "        - 子类永远在父类前面\n",
    "        - 如果多个父类，则根据继承语法中括号内的书写顺序存放\n",
    "        - 如果多个类继承了同一个父类，孙子类只会选取继承语法括号中第一个父类的父类。"
   ]
  },
  {
   "cell_type": "code",
   "execution_count": 32,
   "metadata": {},
   "outputs": [],
   "source": [
    "#菱形继承问题\n",
    "class A():\n",
    "    pass\n",
    "class B(A):\n",
    "    pass\n",
    "class C(A):\n",
    "    pass\n",
    "class D(B,C):\n",
    "    pass\n",
    "\n",
    "    "
   ]
  },
  {
   "cell_type": "code",
   "execution_count": 34,
   "metadata": {},
   "outputs": [
    {
     "name": "stdout",
     "output_type": "stream",
     "text": [
      "b\n"
     ]
    }
   ],
   "source": [
    "# 构造函数的调用顺序 -1\n",
    "# 如果子类没有写构造函数，则自动向上查找，直到找到其位置\n",
    "class A():\n",
    "    def __init__(self):\n",
    "        print('a')\n",
    "        \n",
    "class B(A):\n",
    "    def __init__(self):\n",
    "        print('b')\n",
    "\n",
    "class C(B):\n",
    "    pass\n",
    "\n",
    "class D(C):\n",
    "    pass\n",
    "# 此时，首先查找C的构造函数\n",
    "# 如果没有，则向上按照MRO顺序查找父类的构造函数，知道找到为止\n",
    "c=C()"
   ]
  },
  {
   "cell_type": "markdown",
   "metadata": {},
   "source": [
    "## 再议构造函数\n",
    "- 在对象进行实例化的时候，系统自动调用的一个函数叫构造函数，通常此函数用来对实例对象进行初始化。\n",
    "- 构造函数一定要有，如果没有，则自动向上查找，按照MRO顺序，直到找到为止。"
   ]
  },
  {
   "cell_type": "code",
   "execution_count": 23,
   "metadata": {},
   "outputs": [
    {
     "name": "stdout",
     "output_type": "stream",
     "text": [
      "In init func\n"
     ]
    }
   ],
   "source": [
    "# 构造函数例子\n",
    "\n",
    "class Person():\n",
    "    # 对Person类进行实例化的时候\n",
    "    # 姓名要确定\n",
    "    # 年龄得确定\n",
    "    # 地址肯定有\n",
    "    pass\n",
    "    def __init__(self):\n",
    "        self.name = 'NoName'\n",
    "        self.age = 18\n",
    "        self.address = 'BeiJing'\n",
    "        print('In init func')\n",
    "\n",
    "# 实例化一个人\n",
    "p= Person()"
   ]
  },
  {
   "cell_type": "markdown",
   "metadata": {},
   "source": [
    "## 多态\n",
    "- 多态就是同一个对象在不同情况下有不同的状态出现\n",
    "- 多态不是语法，是一种设计思想\n",
    "- 多态性：一种调用方式，不同的执行效果\n",
    "- 多态：同一事物的多种形态，动物分为哺乳类、卵生类。\n",
    "[多态和多态性](https://www.cnblogs.com/luchuangao/p/6739557.html)"
   ]
  },
  {
   "cell_type": "markdown",
   "metadata": {},
   "source": [
    "## Mixin设计模式\n",
    "- 主要采用多继承方式对类的功能进行扩展\n",
    "- [Mixin概念](https://www.zhihu.com/question/20778853)\n",
    "- [MRO and Mixin](http://blog.csdn.net/robinjwong/article/details/48375833)\n",
    "- [Mixin模式](https://www.cnblogs.com/xybaby/p/6484262.html)\n",
    "- [Mixin MRO](http://runforever.github.io/2014-07-19/2014-07-19-python-mixin%E5%AD%A6%E4%B9%A0%E7%AC%94%E8%AE%B0/)\n",
    "- [MRO](http://xiaocong.github.io/blog/2012/06/13/python-mixin-and-mro/)"
   ]
  },
  {
   "cell_type": "markdown",
   "metadata": {},
   "source": [
    "我们使用多继承语法来实现Mixin\n",
    "- 使用Mixin实现多继承的时候非常小心\n",
    "    - 首先他必须表示某一单一功能，而不是某个物品\n",
    "    - 职责必须单一，如果由多个功能，则写多个Mixin\n",
    "    - Mixin不能依赖于子类的实现\n",
    "    - 子类即使没有继承这个Mixin类，也能照样工作，只是缺少了某个功能\n",
    "- 优点\n",
    "    - 使用Mixin可以在不对类进行任何修改的情况下，扩充功能\n",
    "    - 可以方便的组织和维护不同功能组件的划分\n",
    "    - 可以根据需要任意调整功能类的组合\n",
    "    - 可以避免创建很多新的类，导致类的继承混乱"
   ]
  },
  {
   "cell_type": "code",
   "execution_count": 43,
   "metadata": {},
   "outputs": [
    {
     "name": "stdout",
     "output_type": "stream",
     "text": [
      "(<class '__main__.Tutor'>, <class '__main__.Teacher'>, <class '__main__.Student'>, <class '__main__.Person'>, <class '__main__.Mom'>, <class 'object'>)\n",
      "{}\n",
      "{'__module__': '__main__', '__doc__': None}\n"
     ]
    }
   ],
   "source": [
    "# Mixin 案例\n",
    "class Person():\n",
    "    name = \"liuying\"\n",
    "    age = 18\n",
    "\n",
    "    def eat(self):\n",
    "        print(\"EAT.......\")\n",
    "                    \n",
    "    def drink(self):\n",
    "        print(\"DRINK......\")\n",
    "                    \n",
    "    def sleep(self):\n",
    "        print(\"SLEEP.....\")\n",
    "\n",
    "class Mom():\n",
    "    pass\n",
    "                \n",
    "class Teacher(Person):\n",
    "    def work(self):\n",
    "        print(\"Work\")\n",
    "\n",
    "class Student(Person):\n",
    "    def study(self):\n",
    "        print(\"Study\")\n",
    "                    \n",
    "\n",
    "class Tutor(Teacher, Student,Mom):\n",
    "        pass\n",
    "\n",
    "t = Tutor()\n",
    "             \n",
    "print(Tutor.__mro__)\n",
    "print(t.__dict__)\n",
    "print(Tutor.__dict__)"
   ]
  },
  {
   "cell_type": "code",
   "execution_count": 44,
   "metadata": {},
   "outputs": [
    {
     "name": "stdout",
     "output_type": "stream",
     "text": [
      "(<class '__main__.TutorM'>, <class '__main__.Person'>, <class '__main__.TeacherMixin'>, <class '__main__.StudentMixin'>, <class 'object'>)\n",
      "{}\n",
      "{'__module__': '__main__', '__doc__': None}\n"
     ]
    }
   ],
   "source": [
    "class TeacherMixin():\n",
    "    def work(self):\n",
    "        print(\"Work\")\n",
    "\n",
    "class StudentMixin():\n",
    "    def study(self):\n",
    "        print(\"Study\")\n",
    "                    \n",
    "class TutorM(Person, TeacherMixin, StudentMixin):\n",
    "    pass\n",
    "\n",
    "tt = TutorM()\n",
    "print(TutorM.__mro__)\n",
    "print(tt.__dict__)\n",
    "print(TutorM.__dict__)"
   ]
  },
  {
   "cell_type": "markdown",
   "metadata": {},
   "source": [
    "## 类相关函数\n",
    "- issubclass:检测一个类是否是另一个类的子类\n",
    "- isinstance:检测一个对象是否是一个类的实例\n",
    "- hasattr:检测一个对象是否有成员xxx\n",
    "- getattr: get attribute\n",
    "- setattr: set attribute\n",
    "- delattr: delete attribute\n",
    "- dir: 获取对象的成员列表"
   ]
  },
  {
   "cell_type": "code",
   "execution_count": 48,
   "metadata": {},
   "outputs": [
    {
     "name": "stdout",
     "output_type": "stream",
     "text": [
      "True\n",
      "True\n",
      "False\n"
     ]
    }
   ],
   "source": [
    "# issubclass实例\n",
    "class A():\n",
    "    pass\n",
    "class B(A):\n",
    "    pass\n",
    "class C():\n",
    "    pass\n",
    "print(issubclass(B,A))\n",
    "print(issubclass(C,object))\n",
    "print(issubclass(B,C))"
   ]
  },
  {
   "cell_type": "code",
   "execution_count": 57,
   "metadata": {},
   "outputs": [
    {
     "name": "stdout",
     "output_type": "stream",
     "text": [
      "True\n"
     ]
    }
   ],
   "source": [
    "# isinstance实例\n",
    "class A():\n",
    "    pass\n",
    "a=A()\n",
    "print(isinstance(a,A))"
   ]
  },
  {
   "cell_type": "code",
   "execution_count": 60,
   "metadata": {},
   "outputs": [
    {
     "name": "stdout",
     "output_type": "stream",
     "text": [
      "Help on built-in function getattr in module builtins:\n",
      "\n",
      "getattr(...)\n",
      "    getattr(object, name[, default]) -> value\n",
      "    \n",
      "    Get a named attribute from an object; getattr(x, 'y') is equivalent to x.y.\n",
      "    When a default argument is given, it is returned when the attribute doesn't\n",
      "    exist; without it, an exception is raised in that case.\n",
      "\n"
     ]
    }
   ],
   "source": [
    "help(getattr)"
   ]
  },
  {
   "cell_type": "code",
   "execution_count": 61,
   "metadata": {},
   "outputs": [
    {
     "data": {
      "text/plain": [
       "['__class__',\n",
       " '__delattr__',\n",
       " '__dict__',\n",
       " '__dir__',\n",
       " '__doc__',\n",
       " '__eq__',\n",
       " '__format__',\n",
       " '__ge__',\n",
       " '__getattribute__',\n",
       " '__gt__',\n",
       " '__hash__',\n",
       " '__init__',\n",
       " '__init_subclass__',\n",
       " '__le__',\n",
       " '__lt__',\n",
       " '__module__',\n",
       " '__ne__',\n",
       " '__new__',\n",
       " '__reduce__',\n",
       " '__reduce_ex__',\n",
       " '__repr__',\n",
       " '__setattr__',\n",
       " '__sizeof__',\n",
       " '__str__',\n",
       " '__subclasshook__',\n",
       " '__weakref__']"
      ]
     },
     "execution_count": 61,
     "metadata": {},
     "output_type": "execute_result"
    }
   ],
   "source": [
    "dir(a)"
   ]
  }
 ],
 "metadata": {
  "kernelspec": {
   "display_name": "Python 3",
   "language": "python",
   "name": "python3"
  },
  "language_info": {
   "codemirror_mode": {
    "name": "ipython",
    "version": 3
   },
   "file_extension": ".py",
   "mimetype": "text/x-python",
   "name": "python",
   "nbconvert_exporter": "python",
   "pygments_lexer": "ipython3",
   "version": "3.6.5"
  }
 },
 "nbformat": 4,
 "nbformat_minor": 2
}
