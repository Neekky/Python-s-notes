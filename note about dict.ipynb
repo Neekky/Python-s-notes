{
 "cells": [
  {
   "cell_type": "markdown",
   "metadata": {},
   "source": [
    "# python中数据类型的内置函数\n",
    "- string  字符\n",
    "- number  数值（int float bool complex（复数））\n",
    "- list   列表\n",
    "- dict   字典\n",
    "- set    集合\n",
    "- tuple   元组\n",
    "序列：可通过偏移量来进行切片的对象。列表、元组、字符串都属于序列。list、tuple、str\n",
    "散列：无法通过偏移量来进行切片的对象。比如 集合、字典。set，dict"
   ]
  },
  {
   "cell_type": "markdown",
   "metadata": {},
   "source": [
    "# dict\n",
    "- python内置了字典：dict，全称dictionary，在其他语言中也称为map，使用键-值（key-value）存储，具有极快的查找速度。"
   ]
  },
  {
   "cell_type": "code",
   "execution_count": 1,
   "metadata": {},
   "outputs": [
    {
     "name": "stdout",
     "output_type": "stream",
     "text": [
      "95\n"
     ]
    }
   ],
   "source": [
    "# dict可以在内部直接计算出“Michael”对应的95的内存地址，直接取出来。\n",
    "d = {'Michael': 95, 'Bob': 75, 'Tracy': 85}\n",
    "print(d['Michael'])"
   ]
  },
  {
   "cell_type": "markdown",
   "metadata": {},
   "source": [
    "dict这种key-value存储方式，在放进去的时候，必须根据key算出value的存放位置，这样取的时候才能根据key直接拿到value\n",
    "\n",
    "所以，把数据放入dict的方法，除了初始化时指定外，还可以通过key放入："
   ]
  },
  {
   "cell_type": "code",
   "execution_count": null,
   "metadata": {},
   "outputs": [],
   "source": [
    "d['Adam'] = 67\n",
    "print(d['Adam'])"
   ]
  },
  {
   "cell_type": "markdown",
   "metadata": {},
   "source": [
    "由于一个key只能对应一个value，所以，**多次对一个key放入value，后面的值会把前面的值冲掉**："
   ]
  },
  {
   "cell_type": "code",
   "execution_count": 2,
   "metadata": {},
   "outputs": [
    {
     "name": "stdout",
     "output_type": "stream",
     "text": [
      "67\n",
      "20\n"
     ]
    }
   ],
   "source": [
    "d['Adam'] = 67\n",
    "print(d['Adam'])\n",
    "d['Adam'] = 20\n",
    "print(d['Adam'])"
   ]
  },
  {
   "cell_type": "code",
   "execution_count": 4,
   "metadata": {},
   "outputs": [
    {
     "ename": "KeyError",
     "evalue": "'Newman'",
     "output_type": "error",
     "traceback": [
      "\u001b[1;31m---------------------------------------------------------------------------\u001b[0m",
      "\u001b[1;31mKeyError\u001b[0m                                  Traceback (most recent call last)",
      "\u001b[1;32m<ipython-input-4-af6542e8d7d4>\u001b[0m in \u001b[0;36m<module>\u001b[1;34m()\u001b[0m\n\u001b[0;32m      1\u001b[0m \u001b[1;31m#如果key没被定义，通过dict调用时就会报错：\u001b[0m\u001b[1;33m\u001b[0m\u001b[1;33m\u001b[0m\u001b[0m\n\u001b[1;32m----> 2\u001b[1;33m \u001b[0mprint\u001b[0m\u001b[1;33m(\u001b[0m\u001b[0md\u001b[0m\u001b[1;33m[\u001b[0m\u001b[1;34m'Newman'\u001b[0m\u001b[1;33m]\u001b[0m\u001b[1;33m)\u001b[0m\u001b[1;33m\u001b[0m\u001b[0m\n\u001b[0m",
      "\u001b[1;31mKeyError\u001b[0m: 'Newman'"
     ]
    }
   ],
   "source": [
    "#如果key没被定义，通过dict调用时就会报错：\n",
    "print(d['Newman'])"
   ]
  },
  {
   "cell_type": "markdown",
   "metadata": {},
   "source": [
    "## 要避免key没被定义的问题，有两种办法\n",
    "\n",
    "- 通过in判断key的存在：\n",
    "- 通过dict内置函数get()，如果key不存在，可以返回None或者自己指定的value："
   ]
  },
  {
   "cell_type": "code",
   "execution_count": 6,
   "metadata": {},
   "outputs": [
    {
     "name": "stdout",
     "output_type": "stream",
     "text": [
      "False\n",
      "None\n",
      "-1\n"
     ]
    }
   ],
   "source": [
    "print('Newman'in d)\n",
    "# 在返回none时不会显示在交互界面，除非使用print打印出来。\n",
    "print(d.get('Thomas'))\n",
    "print(d.get('Thomas', -1))\n"
   ]
  },
  {
   "cell_type": "markdown",
   "metadata": {},
   "source": [
    "要删除一个key，**用pop(key)方法，对应的value也会从dict中删除**："
   ]
  },
  {
   "cell_type": "code",
   "execution_count": 8,
   "metadata": {},
   "outputs": [
    {
     "name": "stdout",
     "output_type": "stream",
     "text": [
      "85\n",
      "{'Michael': 95, 'Bob': 75}\n",
      "{'Michael': 95, 'Bob': 75, 'jack': 90}\n"
     ]
    }
   ],
   "source": [
    "d = {'Michael': 95, 'Bob': 75, 'Tracy': 85}\n",
    "print(d.pop('Tracy'))\n",
    "print(d)\n",
    "d['jack']=90\n",
    "print(d)"
   ]
  },
  {
   "cell_type": "markdown",
   "metadata": {},
   "source": [
    "## 和list比较，dict有以下几个特点：\n",
    "- 查找和插入的速度极快，不会随着key的增加而变慢；\n",
    "- 需要占用大量的内存，内存浪费多。\n",
    "###  而list相反：\n",
    "- 查找和插入的时间随着元素的增加而增加；\n",
    "- 占用空间小，浪费内存很少。\n",
    "\n",
    "所以，dict是用空间来换取时间的一种方法。\n",
    "dict可以用在需要高速查找的很多地方，在Python代码中几乎无处不在，正确使用dict非常重要，需要牢记的第一条就是dict的key必须是不可变对象。\n",
    "\n",
    "这是因为dict根据key来计算value的存储位置，如果每次计算相同的key得出的结果不同，那dict内部就完全混乱了。这个通过key计算位置的算法称为哈希算法（Hash）。\n",
    "\n",
    "要保证hash的正确性，作为key的对象就不能变。在Python中，字符串、整数等都是不可变的，因此，可以放心地作为key。而list是可变的，就不能作为key："
   ]
  },
  {
   "cell_type": "markdown",
   "metadata": {},
   "source": [
    "### 记住查阅字典的格式，print( dict[ 'key' ] )"
   ]
  },
  {
   "cell_type": "code",
   "execution_count": 23,
   "metadata": {},
   "outputs": [
    {
     "data": {
      "text/plain": [
       "1"
      ]
     },
     "execution_count": 23,
     "metadata": {},
     "output_type": "execute_result"
    }
   ],
   "source": [
    "key = {'a':1,'b':2,'c': 3}\n",
    "key['a']\n",
    "\n"
   ]
  },
  {
   "cell_type": "markdown",
   "metadata": {},
   "source": [
    "# 字典方法"
   ]
  },
  {
   "cell_type": "markdown",
   "metadata": {},
   "source": [
    "## clear()   \n",
    "- 删除所有字典项，这种操作是就地执行的(前后id地址一样，和list.sort一样)，因此什么都不返回（或者说返回None）"
   ]
  },
  {
   "cell_type": "code",
   "execution_count": 28,
   "metadata": {},
   "outputs": [
    {
     "name": "stdout",
     "output_type": "stream",
     "text": [
      "1505882884640\n",
      "1505882884640\n",
      "{}\n"
     ]
    }
   ],
   "source": [
    "dict1={'a':1,'b':2,'c':3}\n",
    "print(id(dict1))\n",
    "dict1.clear()\n",
    "print(id(dict1))\n",
    "print(dict1)"
   ]
  },
  {
   "cell_type": "markdown",
   "metadata": {},
   "source": [
    "这有什么用呢？**想要删除字典里的所有元素必须使用clear**。"
   ]
  },
  {
   "cell_type": "code",
   "execution_count": 32,
   "metadata": {},
   "outputs": [
    {
     "name": "stdout",
     "output_type": "stream",
     "text": [
      "{'a': 1, 'b': 2, 'c': 3, 'd': '4'}\n",
      "{'a': 1, 'b': 2, 'c': 3, 'd': '4'}\n"
     ]
    }
   ],
   "source": [
    "# 示例1\n",
    "x={'a':1,'b':2,'c':3}\n",
    "y=x # 系统直接将字典x的内存地址赋给了y\n",
    "x['d']='4'\n",
    "print(y)\n",
    "x={}\n",
    "print(y)\n",
    "# 字典x赋为空，y打印出来的仍是原字典x内容"
   ]
  },
  {
   "cell_type": "code",
   "execution_count": 35,
   "metadata": {},
   "outputs": [
    {
     "name": "stdout",
     "output_type": "stream",
     "text": [
      "{'a': 1, 'b': 2, 'c': 3, 'd': '4'}\n",
      "{}\n"
     ]
    }
   ],
   "source": [
    "#示例2\n",
    "x={'a':1,'b':2,'c':3}\n",
    "y=x # 系统直接将字典x的内存地址赋给了y\n",
    "x['d']='4'\n",
    "print(y)\n",
    "x=x.clear()# clear方法清空了原字典x的内容。\n",
    "print(y)"
   ]
  },
  {
   "cell_type": "markdown",
   "metadata": {},
   "source": [
    "**x、y最初都指向同一个字典**，在示例1中，将空字典赋予给x，对y没任何影响。要删除字典里的所有元素必须使用clear，这样y也将是空的，如示例2所示。"
   ]
  },
  {
   "cell_type": "markdown",
   "metadata": {},
   "source": [
    "## copy()  复制字典，浅复制\n",
    "- 返回一个新id的字典，其包含的key-value与原来字典相同。"
   ]
  },
  {
   "cell_type": "code",
   "execution_count": 45,
   "metadata": {},
   "outputs": [
    {
     "name": "stdout",
     "output_type": "stream",
     "text": [
      "{'a': 1, 'b': 2, 'c': 3}\n",
      "1505882399440\n",
      "1505882399440\n"
     ]
    }
   ],
   "source": [
    "dict1={'a':1,'b':2,'c':3}\n",
    "dict2=dict1.copy()\n",
    "print(dict2)\n",
    "print(id(dict1))\n",
    "print(id(dict1))"
   ]
  },
  {
   "cell_type": "markdown",
   "metadata": {},
   "source": [
    "如下程序所见，替换副本y中的键值时，原件x不受影响，但**修改**副本y中的值，原件x也将发生变化，因为原件指向的也是被修改的值。\n",
    "- 程序偷了个懒，通过copy只复制了第四个元素的内存地址，这就是浅复制。"
   ]
  },
  {
   "cell_type": "code",
   "execution_count": 46,
   "metadata": {},
   "outputs": [
    {
     "name": "stdout",
     "output_type": "stream",
     "text": [
      "{'a': 2, 'b': 2, 'c': [3, 4, 5, 6, 7]}\n",
      "{'a': 1, 'b': 2, 'c': [3, 4, 5, 6, 7]}\n"
     ]
    }
   ],
   "source": [
    "x={'a':1,'b':2,'c':[3,4,5,6]}\n",
    "y=x.copy()\n",
    "y['a']=2\n",
    "y['c'].append(7)\n",
    "print(y)\n",
    "print(x)"
   ]
  },
  {
   "cell_type": "markdown",
   "metadata": {},
   "source": [
    "## deepcopy()  复制字典，深复制\n",
    "- 为避免这种问题，一种办法是执行深复制，即：同时复制值及其包含的所有值。为此可以使用模块copy中的函数deepcopy"
   ]
  },
  {
   "cell_type": "code",
   "execution_count": 55,
   "metadata": {
    "scrolled": true
   },
   "outputs": [
    {
     "name": "stdout",
     "output_type": "stream",
     "text": [
      "{'a': 2, 'b': 2, 'c': [3, 4, 5, 6, 7]}\n",
      "{'a': 1, 'b': 2, 'c': [3, 4, 5, 6]}\n"
     ]
    }
   ],
   "source": [
    "from copy import deepcopy\n",
    "x={'a':1,'b':2,'c':[3,4,5,6]}\n",
    "y=deepcopy(x)\n",
    "y['a']=2\n",
    "y['c'].append(7)\n",
    "print(y)\n",
    "print(x)"
   ]
  },
  {
   "cell_type": "markdown",
   "metadata": {},
   "source": [
    "## fromkey() "
   ]
  },
  {
   "cell_type": "code",
   "execution_count": 57,
   "metadata": {},
   "outputs": [
    {
     "name": "stdout",
     "output_type": "stream",
     "text": [
      "{'a': None, 'b': None, 'c': None}\n",
      "{'a': 3, 'b': 3, 'c': 3}\n"
     ]
    }
   ],
   "source": [
    "# fromkeys() 指定序列为键，来创建字典，默认值为None，值都是一样的\n",
    "list1=['a','b','c']\n",
    "dict1=dict.fromkeys(list1)\n",
    "dict2=dict.fromkeys(list1,3)\n",
    "print(dict1)\n",
    "print(dict2)"
   ]
  },
  {
   "cell_type": "markdown",
   "metadata": {},
   "source": [
    "## get() 访问字典"
   ]
  },
  {
   "cell_type": "markdown",
   "metadata": {},
   "source": [
    "- 根据指定的key返回值，**如果指定的键不在字典中，程序不会报错**，而是返回设置的默认值，**默认返回None**\n",
    "- 如果字典包含指定的键，get的作用将于普通字典查找相同"
   ]
  },
  {
   "cell_type": "code",
   "execution_count": 61,
   "metadata": {},
   "outputs": [
    {
     "name": "stdout",
     "output_type": "stream",
     "text": [
      "75\n",
      "None\n",
      "不在\n"
     ]
    }
   ],
   "source": [
    "d = {'Michael': 95, 'Bob': 75, 'Tracy': 85}\n",
    "print(d.get('Bob'))\n",
    "print(d.get('David'))\n",
    "print(d.get('Anna','不在'))"
   ]
  },
  {
   "cell_type": "markdown",
   "metadata": {},
   "source": [
    "## items() 返回一个包含所有字典项的列表\n",
    "- 每个元素都为（key，value）的形式\n",
    "- 字典项在列表中的**排列顺序不确定**"
   ]
  },
  {
   "cell_type": "code",
   "execution_count": 86,
   "metadata": {},
   "outputs": [
    {
     "name": "stdout",
     "output_type": "stream",
     "text": [
      "dict_items([('a', 1), ('b', 2), ('c', 3), ('e', 4), ('s', 6)])\n",
      "5\n",
      "True\n"
     ]
    }
   ],
   "source": [
    "dict1={'a':1,'b':2,'c':3,'e':4,'s':6}\n",
    "print(dict1.items())\n",
    "print(len(dict1))\n",
    "print(('b',2)in dict1.items())"
   ]
  },
  {
   "cell_type": "markdown",
   "metadata": {},
   "source": [
    " 返回的值属于一种名为**字典视图**的特殊类型，可确定其长度以及执行成员资格检查"
   ]
  },
  {
   "cell_type": "markdown",
   "metadata": {},
   "source": [
    "## pop()\n",
    "- 获取与指定键相关的值，并将该key-value对，从字典中删除。\n",
    "- 如果指定键不存在，程序会报错"
   ]
  },
  {
   "cell_type": "code",
   "execution_count": 92,
   "metadata": {},
   "outputs": [
    {
     "name": "stdout",
     "output_type": "stream",
     "text": [
      "1\n",
      "51\n"
     ]
    },
    {
     "ename": "KeyError",
     "evalue": "'d'",
     "output_type": "error",
     "traceback": [
      "\u001b[1;31m---------------------------------------------------------------------------\u001b[0m",
      "\u001b[1;31mKeyError\u001b[0m                                  Traceback (most recent call last)",
      "\u001b[1;32m<ipython-input-92-97743ba619aa>\u001b[0m in \u001b[0;36m<module>\u001b[1;34m()\u001b[0m\n\u001b[0;32m      2\u001b[0m \u001b[0mprint\u001b[0m\u001b[1;33m(\u001b[0m\u001b[0mdict1\u001b[0m\u001b[1;33m.\u001b[0m\u001b[0mpop\u001b[0m\u001b[1;33m(\u001b[0m\u001b[1;34m'a'\u001b[0m\u001b[1;33m)\u001b[0m\u001b[1;33m)\u001b[0m\u001b[1;33m\u001b[0m\u001b[0m\n\u001b[0;32m      3\u001b[0m \u001b[0mprint\u001b[0m\u001b[1;33m(\u001b[0m\u001b[0mdict1\u001b[0m\u001b[1;33m.\u001b[0m\u001b[0mpop\u001b[0m\u001b[1;33m(\u001b[0m\u001b[1;34m'd'\u001b[0m\u001b[1;33m,\u001b[0m\u001b[1;36m51\u001b[0m\u001b[1;33m)\u001b[0m\u001b[1;33m)\u001b[0m\u001b[1;33m\u001b[0m\u001b[0m\n\u001b[1;32m----> 4\u001b[1;33m \u001b[0mprint\u001b[0m\u001b[1;33m(\u001b[0m\u001b[0mdict1\u001b[0m\u001b[1;33m.\u001b[0m\u001b[0mpop\u001b[0m\u001b[1;33m(\u001b[0m\u001b[1;34m'd'\u001b[0m\u001b[1;33m)\u001b[0m\u001b[1;33m)\u001b[0m\u001b[1;33m\u001b[0m\u001b[0m\n\u001b[0m",
      "\u001b[1;31mKeyError\u001b[0m: 'd'"
     ]
    }
   ],
   "source": [
    "dict1={'a':1,'b':2,'c':3}\n",
    "print(dict1.pop('a'))\n",
    "print(dict1.pop('d',51))\n",
    "print(dict1.pop('d'))"
   ]
  },
  {
   "cell_type": "markdown",
   "metadata": {},
   "source": [
    "## popitem()\n",
    "- 类似于list.pop,但list.pop是弹出列表最后一个元素，而popitem是随机的弹出一个字典项\n"
   ]
  },
  {
   "cell_type": "code",
   "execution_count": 103,
   "metadata": {},
   "outputs": [
    {
     "name": "stdout",
     "output_type": "stream",
     "text": [
      "('s', 6)\n",
      "('e', 4)\n",
      "('the', 'to')\n",
      "('c', 3)\n"
     ]
    }
   ],
   "source": [
    "dict1={'url':'www.baidu.com','a':1,'b':2,'c':3,'the':'to','e':4,'s':6}\n",
    "print(dict1.popitem())\n",
    "print(dict1.popitem())\n",
    "print(dict1.popitem())\n",
    "print(dict1.popitem())"
   ]
  },
  {
   "cell_type": "markdown",
   "metadata": {},
   "source": [
    "## setdefault()  在字典里添加一个元素\n",
    "- setdefault有点像get，因为它也获取与指定键相关联的值，**除此之外，setdefault还在字典不包含指定的键时，在字典中添加指定的键-值对"
   ]
  },
  {
   "cell_type": "code",
   "execution_count": 111,
   "metadata": {},
   "outputs": [
    {
     "name": "stdout",
     "output_type": "stream",
     "text": [
      "5\n",
      "{'d': 4, 'a': 1, 'c': 3, 'b': 2, 'e': 5}\n",
      "1\n",
      "{'d': 4, 'a': 1, 'c': 3, 'b': 2, 'e': 5}\n",
      "{'d': 4, 'a': 2, 'c': 3, 'b': 2, 'e': 5}\n"
     ]
    }
   ],
   "source": [
    "dict1={'d':4,'a':1,'c':3,'b':2}\n",
    "print(dict1.setdefault('e',5))\n",
    "print(dict1)\n",
    "print(dict1.setdefault('a',1))\n",
    "print(dict1)\n",
    "\n",
    "dict1['a']=2\n",
    "print(dict1)"
   ]
  },
  {
   "cell_type": "markdown",
   "metadata": {},
   "source": [
    "## keys()\n",
    "- 返回一个字典视图，其中包含指定字典中的键"
   ]
  },
  {
   "cell_type": "code",
   "execution_count": 121,
   "metadata": {},
   "outputs": [
    {
     "name": "stdout",
     "output_type": "stream",
     "text": [
      "dict_keys(['a', 'b', 'c'])\n",
      "a\n",
      "b\n",
      "c\n"
     ]
    }
   ],
   "source": [
    "dict1={'a':1,'b':2,'c':3}\n",
    "print(dict1.keys())\n",
    "\n",
    "dict1={'a':1,'b':2,'c':3}\n",
    "for i in dict1:\n",
    "    print(i)"
   ]
  },
  {
   "cell_type": "code",
   "execution_count": null,
   "metadata": {},
   "outputs": [],
   "source": []
  },
  {
   "cell_type": "markdown",
   "metadata": {},
   "source": [
    "## values()\n",
    "- 方法values返回一个由字典中的值组成的**字典视图**，不同于方法keys，方法values返回的值可能包含重复的值"
   ]
  },
  {
   "cell_type": "code",
   "execution_count": 115,
   "metadata": {},
   "outputs": [
    {
     "name": "stdout",
     "output_type": "stream",
     "text": [
      "dict_values([1, 2, 3, 2])\n"
     ]
    }
   ],
   "source": [
    "dict1={'a':1,'b':2,'c':3,'e':2}\n",
    "print(dict1.values())"
   ]
  },
  {
   "cell_type": "markdown",
   "metadata": {},
   "source": [
    "## update()  \n",
    "- 使用一个**字典**中的项来更新另一个字典"
   ]
  },
  {
   "cell_type": "code",
   "execution_count": 117,
   "metadata": {},
   "outputs": [
    {
     "name": "stdout",
     "output_type": "stream",
     "text": [
      "{'a': 3, 'b': 4, 'c': 5, 'e': 2}\n"
     ]
    }
   ],
   "source": [
    "dict1={'a':1,'b':2,'c':3,'e':2}\n",
    "dict1.update({'a':3,'b':4,'c':5})\n",
    "print(dict1)"
   ]
  },
  {
   "cell_type": "code",
   "execution_count": 119,
   "metadata": {},
   "outputs": [
    {
     "name": "stdout",
     "output_type": "stream",
     "text": [
      "a - 1\n",
      "b - 2\n",
      "c - 3\n"
     ]
    }
   ],
   "source": [
    "for k,v in dict1.items():# k对应键，v对应值，是python比较方便的一个访问方法\n",
    "    print(k,'-',v)"
   ]
  },
  {
   "cell_type": "code",
   "execution_count": 122,
   "metadata": {},
   "outputs": [
    {
     "name": "stdout",
     "output_type": "stream",
     "text": [
      "a\n",
      "b\n",
      "c\n"
     ]
    }
   ],
   "source": [
    "dict1={'a':1,'b':2,'c':3}\n",
    "for i in dict1:\n",
    "    print(i)"
   ]
  },
  {
   "cell_type": "code",
   "execution_count": 123,
   "metadata": {},
   "outputs": [
    {
     "name": "stdout",
     "output_type": "stream",
     "text": [
      "('a', 1)\n",
      "('b', 2)\n",
      "('c', 3)\n",
      "{'a': 1, 'b': 2, 'c': 3}\n",
      "dict_items([('a', 1), ('b', 2), ('c', 3)])\n"
     ]
    }
   ],
   "source": [
    "dict1={'a':1,'b':2,'c':3}\n",
    "for i in dict1.items():\n",
    "    print(i)\n",
    "print(dict1)\n",
    "print(dict1.items())"
   ]
  },
  {
   "cell_type": "markdown",
   "metadata": {},
   "source": [
    "###  和list比较，dict有以下几个特点：\n",
    "- 查找和插入的速度极快，不会随着key的增加而变慢；\n",
    "- 需要占用大量的内存，内存浪费多。\n",
    "\n",
    "###  而list相反：\n",
    "- 查找和插入的时间随着元素的增加而增加；\n",
    "- 占用空间小，浪费内存很少。\n",
    "\n",
    "所以，dict是用空间来换取时间的一种方法。\n",
    "dict可以用在需要高速查找的很多地方，在Python代码中几乎无处不在，正确使用dict非常重要，需要牢记的第一条就是dict的key必须是不可变对象。\n",
    "\n",
    "这是因为dict根据key来计算value的存储位置，如果每次计算相同的key得出的结果不同，那dict内部就完全混乱了。这个通过key计算位置的算法称为哈希算法（Hash）。\n",
    "\n",
    "要保证hash的正确性，作为key的对象就不能变。在Python中，字符串、整数等都是不可变的，因此，可以放心地作为key。而list是可变的，就不能作为key。"
   ]
  },
  {
   "cell_type": "code",
   "execution_count": null,
   "metadata": {},
   "outputs": [],
   "source": []
  },
  {
   "cell_type": "code",
   "execution_count": null,
   "metadata": {},
   "outputs": [],
   "source": []
  }
 ],
 "metadata": {
  "kernelspec": {
   "display_name": "Python 3",
   "language": "python",
   "name": "python3"
  },
  "language_info": {
   "codemirror_mode": {
    "name": "ipython",
    "version": 3
   },
   "file_extension": ".py",
   "mimetype": "text/x-python",
   "name": "python",
   "nbconvert_exporter": "python",
   "pygments_lexer": "ipython3",
   "version": "3.6.5"
  }
 },
 "nbformat": 4,
 "nbformat_minor": 2
}
