{
 "cells": [
  {
   "cell_type": "markdown",
   "metadata": {},
   "source": [
    "## 使用 \\__slots__\n",
    "\n",
    "- \\__slots__，限制class，定义其所能添加的属性\n",
    "- MethodType，将一个方法（函数）绑定到一个类的实例上。\n",
    "\n",
    "动态语言的灵活性：\n",
    "    - 当定义了一个class，创建了一个class的实例后，我们可以给该实例绑定任何的属性和方法，这就是动态语言的灵活性。先定义class：\n",
    "    "
   ]
  },
  {
   "cell_type": "code",
   "execution_count": 4,
   "metadata": {},
   "outputs": [
    {
     "name": "stdout",
     "output_type": "stream",
     "text": [
      "Andy\n"
     ]
    }
   ],
   "source": [
    "class Student(object):\n",
    "    pass\n",
    "#定义一个实例，并绑定属性：\n",
    "s=Student()\n",
    "s.name='Andy'\n",
    "print(s.name)\n"
   ]
  },
  {
   "cell_type": "markdown",
   "metadata": {},
   "source": [
    "尝试一下给实例绑定一个方法：\n"
   ]
  },
  {
   "cell_type": "code",
   "execution_count": 30,
   "metadata": {},
   "outputs": [
    {
     "data": {
      "text/plain": [
       "20"
      ]
     },
     "execution_count": 30,
     "metadata": {},
     "output_type": "execute_result"
    }
   ],
   "source": [
    "class Student(object):\n",
    "    pass\n",
    "def set_age(self,age):#定义一个函数作为实例方法\n",
    "    self.age=age\n",
    "from types import MethodType\n",
    "s.set_age=MethodType(set_age,s)#给实例绑定一个方法\n",
    "s.set_age(25)#调用实例方法\n",
    "s.age#测试结果\n"
   ]
  },
  {
   "cell_type": "markdown",
   "metadata": {},
   "source": [
    "但是，给一个实例绑定的方法，对另一个实例是不起作用的："
   ]
  },
  {
   "cell_type": "code",
   "execution_count": 27,
   "metadata": {},
   "outputs": [
    {
     "data": {
      "text/plain": [
       "20"
      ]
     },
     "execution_count": 27,
     "metadata": {},
     "output_type": "execute_result"
    }
   ],
   "source": [
    "class Student(object):\n",
    "    pass\n",
    "    def set_age(self,age):#定义一个函数作为实例方法\n",
    "        self.age=age\n",
    "s2 = Student() # 创建新的实例\n",
    "s2.set_age(20) # 尝试调用方法\n",
    "s2.age"
   ]
  },
  {
   "cell_type": "markdown",
   "metadata": {},
   "source": [
    "有点没弄懂MrthodType的作用，直接将set_age定义成类的方法不就行了吗，如下所示："
   ]
  },
  {
   "cell_type": "code",
   "execution_count": 32,
   "metadata": {},
   "outputs": [
    {
     "name": "stdout",
     "output_type": "stream",
     "text": [
      "25\n",
      "20\n"
     ]
    }
   ],
   "source": [
    "class Student(object):\n",
    "    pass\n",
    "    def set_age(self,age):#将函数定义成类的函数\n",
    "        self.age=age\n",
    "from types import MethodType\n",
    "s.set_age=MethodType(set_age,s)#给实例绑定一个方法\n",
    "s.set_age(25) #调用实例方法\n",
    "print(s.age) #测试结果\n",
    "s2 = Student() # 创建新的实例\n",
    "s2.set_age(20) # 尝试调用方法\n",
    "print(s2.age) # 可以调用"
   ]
  },
  {
   "cell_type": "markdown",
   "metadata": {},
   "source": [
    "### 小插曲\n",
    "讲解下MethodType的作用。\n",
    " - 将一个方法（函数）绑定到一个类的实例上。"
   ]
  },
  {
   "cell_type": "code",
   "execution_count": 56,
   "metadata": {},
   "outputs": [
    {
     "name": "stdout",
     "output_type": "stream",
     "text": [
      "i love chicken\n",
      "chicken\n"
     ]
    },
    {
     "ename": "TypeError",
     "evalue": "eat_meat() missing 1 required positional argument: 'meat'",
     "output_type": "error",
     "traceback": [
      "\u001b[1;31m---------------------------------------------------------------------------\u001b[0m",
      "\u001b[1;31mTypeError\u001b[0m                                 Traceback (most recent call last)",
      "\u001b[1;32m<ipython-input-56-25f7b840a1a1>\u001b[0m in \u001b[0;36m<module>\u001b[1;34m()\u001b[0m\n\u001b[0;32m     11\u001b[0m \u001b[0mchicken\u001b[0m\u001b[1;33m.\u001b[0m\u001b[0meat_meat\u001b[0m\u001b[1;33m(\u001b[0m\u001b[1;34m'chicken'\u001b[0m\u001b[1;33m)\u001b[0m \u001b[1;31m#调用eat_meat方法\u001b[0m\u001b[1;33m\u001b[0m\u001b[0m\n\u001b[0;32m     12\u001b[0m \u001b[0mprint\u001b[0m\u001b[1;33m(\u001b[0m\u001b[0mchicken\u001b[0m\u001b[1;33m.\u001b[0m\u001b[0mmeat\u001b[0m\u001b[1;33m)\u001b[0m\u001b[1;33m\u001b[0m\u001b[0m\n\u001b[1;32m---> 13\u001b[1;33m \u001b[0meat_meat\u001b[0m\u001b[1;33m(\u001b[0m\u001b[0mchicken\u001b[0m\u001b[1;33m)\u001b[0m\u001b[1;33m\u001b[0m\u001b[0m\n\u001b[0m",
      "\u001b[1;31mTypeError\u001b[0m: eat_meat() missing 1 required positional argument: 'meat'"
     ]
    }
   ],
   "source": [
    "class eat(object):# 定义了一个类\n",
    "    pass\n",
    "\n",
    "def eat_meat(self,meat):# 定义了一个函数，与eat类无关\n",
    "    self.meat=meat\n",
    "    print('i love',meat)\n",
    "\n",
    "from types import MethodType # 调用methodtype函数\n",
    "chicken=eat()  # 给类定一个实例，这个类用不了eat_meat方法\n",
    "chicken.eat_meat=MethodType(eat_meat,chicken) #给它绑定eat_meat方法\n",
    "chicken.eat_meat('chicken') #调用eat_meat方法\n",
    "print(chicken.meat)\n",
    "eat_meat(chicken)\n"
   ]
  },
  {
   "cell_type": "markdown",
   "metadata": {},
   "source": [
    "## 发现\n",
    "外部定义的函数，括号内有self，这代表这个函数不能单独使用，只能绑定给class内的实例使用。"
   ]
  },
  {
   "cell_type": "code",
   "execution_count": 60,
   "metadata": {},
   "outputs": [
    {
     "ename": "TypeError",
     "evalue": "eat_meat() missing 1 required positional argument: 'meat'",
     "output_type": "error",
     "traceback": [
      "\u001b[1;31m---------------------------------------------------------------------------\u001b[0m",
      "\u001b[1;31mTypeError\u001b[0m                                 Traceback (most recent call last)",
      "\u001b[1;32m<ipython-input-60-b38de15f34cc>\u001b[0m in \u001b[0;36m<module>\u001b[1;34m()\u001b[0m\n\u001b[0;32m      3\u001b[0m     \u001b[0mprint\u001b[0m\u001b[1;33m(\u001b[0m\u001b[1;34m'i love'\u001b[0m\u001b[1;33m,\u001b[0m\u001b[0mmeat\u001b[0m\u001b[1;33m)\u001b[0m\u001b[1;33m\u001b[0m\u001b[0m\n\u001b[0;32m      4\u001b[0m \u001b[1;33m\u001b[0m\u001b[0m\n\u001b[1;32m----> 5\u001b[1;33m \u001b[0meat_meat\u001b[0m\u001b[1;33m(\u001b[0m\u001b[0mchicken\u001b[0m\u001b[1;33m)\u001b[0m\u001b[1;31m# 不能像普通函数直接调用\u001b[0m\u001b[1;33m\u001b[0m\u001b[0m\n\u001b[0m",
      "\u001b[1;31mTypeError\u001b[0m: eat_meat() missing 1 required positional argument: 'meat'"
     ]
    }
   ],
   "source": [
    "def eat_meat(self,meat):# 定义了一个函数，函数本身没问题\n",
    "    self.meat=meat\n",
    "    print('i love',meat)\n",
    " \n",
    "eat_meat(chicken)# 不能像普通函数直接调用"
   ]
  },
  {
   "cell_type": "markdown",
   "metadata": {},
   "source": [
    "形参带self的函数是给类用的，想要调用上面的函数不报错，如下所示："
   ]
  },
  {
   "cell_type": "code",
   "execution_count": 63,
   "metadata": {},
   "outputs": [
    {
     "name": "stdout",
     "output_type": "stream",
     "text": [
      "i love chicken\n"
     ]
    }
   ],
   "source": [
    "def eat_meat(meat):# 去掉self\n",
    "    meat=meat\n",
    "    print('i love',meat)\n",
    " \n",
    "eat_meat('chicken') # 直接调用不报错"
   ]
  },
  {
   "cell_type": "markdown",
   "metadata": {},
   "source": [
    "# 回到正题\n",
    "使用 \\__slots__方法\n",
    "- 如果想要限制实例的属性该怎么办？例如只允许对Student的实例添加name和age属性。\n",
    "- 为了达到限制的目的，python允许定义class的时候，定义一个特殊的\\__slots__变量，来限制该class实例能添加的属性："
   ]
  },
  {
   "cell_type": "code",
   "execution_count": 69,
   "metadata": {},
   "outputs": [
    {
     "ename": "AttributeError",
     "evalue": "'Student' object has no attribute 'score'",
     "output_type": "error",
     "traceback": [
      "\u001b[1;31m---------------------------------------------------------------------------\u001b[0m",
      "\u001b[1;31mAttributeError\u001b[0m                            Traceback (most recent call last)",
      "\u001b[1;32m<ipython-input-69-c94cc1d8cd76>\u001b[0m in \u001b[0;36m<module>\u001b[1;34m()\u001b[0m\n\u001b[0;32m      5\u001b[0m \u001b[0ms\u001b[0m\u001b[1;33m.\u001b[0m\u001b[0mname\u001b[0m\u001b[1;33m=\u001b[0m\u001b[1;34m'Andy'\u001b[0m \u001b[1;31m#绑定属性 name\u001b[0m\u001b[1;33m\u001b[0m\u001b[0m\n\u001b[0;32m      6\u001b[0m \u001b[0ms\u001b[0m\u001b[1;33m.\u001b[0m\u001b[0mage\u001b[0m\u001b[1;33m=\u001b[0m\u001b[1;36m25\u001b[0m\u001b[1;33m\u001b[0m\u001b[0m\n\u001b[1;32m----> 7\u001b[1;33m \u001b[0ms\u001b[0m\u001b[1;33m.\u001b[0m\u001b[0mscore\u001b[0m\u001b[1;33m=\u001b[0m\u001b[1;36m87\u001b[0m\u001b[1;33m\u001b[0m\u001b[0m\n\u001b[0m",
      "\u001b[1;31mAttributeError\u001b[0m: 'Student' object has no attribute 'score'"
     ]
    }
   ],
   "source": [
    "class Student(object):\n",
    "    __slots__ = ('name', 'age') # 用tuple定义允许绑定的属性名称\n",
    "# 然后，我们试试：\n",
    "s=Student() #创建新的实例\n",
    "s.name='Andy' #绑定属性 name\n",
    "s.age=25\n",
    "s.score=87\n"
   ]
  },
  {
   "cell_type": "markdown",
   "metadata": {},
   "source": [
    "由于'score'没有被放到\\__slots__中，所以不能绑定score属性，试图绑定score将得到\n",
    "AttributeError的错误。\n",
    "\n",
    "使用\\__slots__要注意，\\__slots__定义的属性仅对当前类实例起作用，对继承的子类是不起作用的："
   ]
  },
  {
   "cell_type": "code",
   "execution_count": 72,
   "metadata": {},
   "outputs": [],
   "source": [
    "class Student(object):\n",
    "    __slots__ = ('name', 'age') \n",
    "s=Student()\n",
    "s.name='Andy' \n",
    "s.age=25\n",
    "\n",
    "class university(Student):\n",
    "    pass\n",
    "a=university()\n",
    "a.score=99 # 继承student的子类可以添加score属性\n"
   ]
  },
  {
   "cell_type": "markdown",
   "metadata": {},
   "source": [
    "除非在子类中也定义__slots__，这样，子类实例允许定义的属性就是自身的__slots__加上父类的__slots__。"
   ]
  }
 ],
 "metadata": {
  "kernelspec": {
   "display_name": "Python 3",
   "language": "python",
   "name": "python3"
  },
  "language_info": {
   "codemirror_mode": {
    "name": "ipython",
    "version": 3
   },
   "file_extension": ".py",
   "mimetype": "text/x-python",
   "name": "python",
   "nbconvert_exporter": "python",
   "pygments_lexer": "ipython3",
   "version": "3.6.5"
  }
 },
 "nbformat": 4,
 "nbformat_minor": 2
}
