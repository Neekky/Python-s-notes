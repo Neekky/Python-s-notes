{
 "cells": [
  {
   "cell_type": "markdown",
   "metadata": {},
   "source": [
    "## 类和实例\n",
    "面向对象最重要的概念就是类（Class）和实例（Instance），必须牢记类是抽象的模板，比如Student类，而实例是根据类创建出来的一个个具体的“对象”，每个对象都拥有相同的方法，但各自的数据可能不同。\n",
    "\n",
    "类：抽象名词，代表一个集合，共性的事物。\n",
    "对象：具象的事物，单个个体。\n",
    "\n",
    "类跟对象的关系\n",
    " - 一个是具象，代表一类事物的某一个个体\n",
    " - 一个是抽象，代表的是一大类事物\n",
    " \n",
    "类中的内容，应该具有两个内容\n",
    " - 表明事物的特征，叫做**属性（变量）**\n",
    " - 表明事物功能或动作，称为**成员方法（函数）**\n",
    " \n",
    "\n",
    "仍以Student类为例，在Python中，定义类是通过class关键字："
   ]
  },
  {
   "cell_type": "code",
   "execution_count": null,
   "metadata": {},
   "outputs": [],
   "source": [
    "class Student(object):\n",
    "    pass"
   ]
  },
  {
   "cell_type": "markdown",
   "metadata": {},
   "source": [
    "class后面紧接着是类名，即Student，类名通常是大写开头的单词，紧接着是(object)，表示该类是从哪个类继承下来的，继承的概念我们后面再讲，通常，如果没有合适的继承类，就使用object类，这是所有类最终都会继承的类。\n",
    "\n",
    "## 类的基本实现\n",
    "类的命名\n",
    "  - 遵守变量命名的规范\n",
    "  - 尽量避开跟系统命名相似的命名\n",
    "  \n",
    "如何声明一个类\n",
    "  - 必须用class关键字\n",
    "  - 类由属性和方法构成，其它不允许出现\n",
    "  - 成员的属性定义可以直接使用变量赋值，如果没有值，允许使用None"
   ]
  },
  {
   "cell_type": "markdown",
   "metadata": {},
   "source": [
    "定义好了Student类，就可以根据Student类创建出Student的实例，创建实例是通过类名+()实现的："
   ]
  },
  {
   "cell_type": "code",
   "execution_count": 7,
   "metadata": {},
   "outputs": [
    {
     "name": "stdout",
     "output_type": "stream",
     "text": [
      "<__main__.Student object at 0x0000024BAEBF5F60>\n",
      "<class '__main__.Student'>\n"
     ]
    }
   ],
   "source": [
    "class Student(object):\n",
    "    pass\n",
    "bart = Student()\n",
    "print(bart)\n",
    "print(Student)"
   ]
  },
  {
   "cell_type": "markdown",
   "metadata": {},
   "source": [
    "可以看到，变量bart指向的就是一个Student的实例，后面的0x10a67a590是内存地址，每个object的地址都不一样，而Student本身则是一个类。\n",
    "\n",
    "可以自由地给一个实例变量绑定属性，比如，给实例bart绑定一个name属性："
   ]
  },
  {
   "cell_type": "code",
   "execution_count": 2,
   "metadata": {},
   "outputs": [
    {
     "name": "stdout",
     "output_type": "stream",
     "text": [
      "Bart Simpson\n"
     ]
    }
   ],
   "source": [
    "class student(object):\n",
    "    def __init__(self,name,score):\n",
    "        self.name=name\n",
    "        self.score=score\n",
    "    def print_score(self):\n",
    "        print('%s:%s'%(self.name,self.score))\n",
    "bart=student\n",
    "bart.name = 'Bart Simpson'\n",
    "print(bart.name)"
   ]
  },
  {
   "cell_type": "code",
   "execution_count": 7,
   "metadata": {},
   "outputs": [
    {
     "name": "stdout",
     "output_type": "stream",
     "text": [
      "<class 'list'>\n",
      "[1]\n"
     ]
    }
   ],
   "source": [
    "# 与内置函数list对比\n",
    "l=[]\n",
    "print(type(l))\n",
    "l.append(1)\n",
    "print(l)\n",
    "\n"
   ]
  },
  {
   "cell_type": "markdown",
   "metadata": {},
   "source": [
    "由于类可以起到模板的作用，因此，可以在创建实例的时候，把一些我们认为必须绑定的属性强制填写进去。\n",
    "\n",
    "通过定义一个特殊的__init__方法，在创建实例的时候，就把name，score等属性绑上去："
   ]
  },
  {
   "cell_type": "code",
   "execution_count": 37,
   "metadata": {},
   "outputs": [
    {
     "name": "stdout",
     "output_type": "stream",
     "text": [
      "Bart Simpson\n",
      "59\n"
     ]
    }
   ],
   "source": [
    "class Student(object):\n",
    "\n",
    "    def __init__(self, name, score):\n",
    "        self.name = name\n",
    "        self.score = score\n",
    "bart = Student('Bart Simpson', 59)\n",
    "print(bart.name)\n",
    "print(bart.score)"
   ]
  },
  {
   "cell_type": "markdown",
   "metadata": {},
   "source": [
    "注意到__init__方法的第一个参数永远是self，表示创建的实例本身，因此，在__init__方法内部，就可以把各种属性绑定到self，因为self就指向创建的实例本身。\n",
    "\n",
    "有了__init__方法，在创建实例的时候，就不能传入空的参数了，必须传入与__init__方法匹配的参数，但self不需要传，Python解释器自己会把实例变量传进去："
   ]
  },
  {
   "cell_type": "markdown",
   "metadata": {},
   "source": [
    "和普通的函数相比，在类中定义的函数只有一点不同，就是第一个参数永远是实例变量self，并且，调用时，不用传递该参数。除此之外，类的方法和普通函数没有什么区别，所以，你仍然可以用默认参数、可变参数、关键字参数和命名关键字参数。"
   ]
  },
  {
   "cell_type": "markdown",
   "metadata": {},
   "source": [
    "## 关于self\n",
    "- self 在对象的方法中表示对象当前对象本身，如果通过对象调用一个方法，那么该对象会自动传入到当前方法的第一个参数中。\n",
    "- self并不是关键字，只是一个用于接受对象的普通参数，理论上可以用于任何一个普通变量名代替。\n",
    "- 方法中有self形参的方法成为非绑定类的方法，可以通过对象访问，没有self的是绑定类的方法，只能通过类访问。\n",
    "- 使用类访问绑定类的方法时，如果类方法中需要访问当前类的成员，可以通过__class__成员名来访问。"
   ]
  },
  {
   "cell_type": "code",
   "execution_count": 18,
   "metadata": {},
   "outputs": [
    {
     "name": "stdout",
     "output_type": "stream",
     "text": [
      "yueyue: 80\n",
      "80\n"
     ]
    }
   ],
   "source": [
    "class student(object):\n",
    "    def __init__(self, name, score):\n",
    "        self.name = name\n",
    "        self.score = score\n",
    "# 注意print_score的写法，参数有一个self\n",
    "    def print_score(self):\n",
    "        print('%s: %s' % (self.name, self.score))\n",
    "    \n",
    "    def get_grade(self):\n",
    "        if self.score >= 90:\n",
    "            return 'A'\n",
    "        elif self.score >= 60:\n",
    "            return 'B'\n",
    "        else:\n",
    "            return 'C'\n",
    "yueyue=student('yueyue',80)\n",
    "yueyue.print_score()\n",
    "print(yueyue.score)"
   ]
  },
  {
   "cell_type": "markdown",
   "metadata": {},
   "source": [
    "**self并不是关键字**，只是一个用于接受对象的普通参数，理论上可以用于任何一个普通变量名代替。用self也是为了照顾一下学java和c语言的。"
   ]
  },
  {
   "cell_type": "code",
   "execution_count": 20,
   "metadata": {},
   "outputs": [
    {
     "name": "stdout",
     "output_type": "stream",
     "text": [
      "yueyue: 80\n",
      "80\n"
     ]
    }
   ],
   "source": [
    "class student(object):\n",
    "    def __init__(self, name, score):\n",
    "        self.name = name\n",
    "        self.score = score\n",
    "# self修改成s一样可以执行\n",
    "    def print_score(s):\n",
    "        print('%s: %s' % (s.name, s.score))\n",
    "yueyue=student('yueyue',80)\n",
    "yueyue.print_score()\n",
    "print(yueyue.score)"
   ]
  },
  {
   "cell_type": "code",
   "execution_count": 2,
   "metadata": {},
   "outputs": [
    {
     "name": "stdout",
     "output_type": "stream",
     "text": [
      "name: 18\n"
     ]
    },
    {
     "ename": "TypeError",
     "evalue": "sayagain() takes 0 positional arguments but 1 was given",
     "output_type": "error",
     "traceback": [
      "\u001b[1;31m---------------------------------------------------------------------------\u001b[0m",
      "\u001b[1;31mTypeError\u001b[0m                                 Traceback (most recent call last)",
      "\u001b[1;32m<ipython-input-2-ba05b53bfb8c>\u001b[0m in \u001b[0;36m<module>\u001b[1;34m()\u001b[0m\n\u001b[0;32m     14\u001b[0m \u001b[0mt\u001b[0m\u001b[1;33m.\u001b[0m\u001b[0msay\u001b[0m\u001b[1;33m(\u001b[0m\u001b[1;33m)\u001b[0m\u001b[1;33m\u001b[0m\u001b[0m\n\u001b[0;32m     15\u001b[0m \u001b[1;31m# 调用绑定类函数使用类名，不然报错\u001b[0m\u001b[1;33m\u001b[0m\u001b[1;33m\u001b[0m\u001b[0m\n\u001b[1;32m---> 16\u001b[1;33m \u001b[0mt\u001b[0m\u001b[1;33m.\u001b[0m\u001b[0msayagain\u001b[0m\u001b[1;33m(\u001b[0m\u001b[1;33m)\u001b[0m\u001b[1;33m\u001b[0m\u001b[0m\n\u001b[0m",
      "\u001b[1;31mTypeError\u001b[0m: sayagain() takes 0 positional arguments but 1 was given"
     ]
    }
   ],
   "source": [
    "class teacher():\n",
    "    name = 'andy'\n",
    "    age = 19\n",
    "    \n",
    "    def say(self):\n",
    "        self.name='name'\n",
    "        self.age=18\n",
    "        print('%s: %s' % (self.name, self.age))\n",
    "\n",
    "    def sayagain():\n",
    "        print('hello')\n",
    "    \n",
    "t=teacher()\n",
    "t.say()\n",
    "# 调用绑定类函数使用类名，不然报错\n",
    "t.sayagain()"
   ]
  },
  {
   "cell_type": "markdown",
   "metadata": {},
   "source": [
    "sayagain() takes 0 positional arguments but 1 was given\n",
    "\n",
    "系统报错，sayagain不需要给参数"
   ]
  },
  {
   "cell_type": "code",
   "execution_count": 3,
   "metadata": {},
   "outputs": [
    {
     "name": "stdout",
     "output_type": "stream",
     "text": [
      "hello\n"
     ]
    }
   ],
   "source": [
    "# 使用类名来调用，就可以成功调用：\n",
    "teacher.sayagain()"
   ]
  },
  {
   "cell_type": "markdown",
   "metadata": {},
   "source": [
    "使用类访问绑定类的方法时，如果类方法中需要访问当前类的成员，可以通过__class__成员名来访问。"
   ]
  },
  {
   "cell_type": "code",
   "execution_count": 6,
   "metadata": {},
   "outputs": [
    {
     "name": "stdout",
     "output_type": "stream",
     "text": [
      "My name is name\n",
      "My age is 18\n",
      "andy\n",
      "19\n",
      "hello,nice to meet you\n"
     ]
    }
   ],
   "source": [
    "class teacher():\n",
    "    name = 'andy'\n",
    "    age = 19\n",
    "    \n",
    "    def say(self):\n",
    "        self.name='name'\n",
    "        self.age=18\n",
    "        print('My name is {0}'.format(self.name))\n",
    "        print('My age is {0}'.format(self.age))\n",
    "        \n",
    "    def sayAgain():\n",
    "        # 用__class__直接调用类的属性\n",
    "        print(__class__.name)\n",
    "        print(__class__.age)\n",
    "        print(\"hello,nice to meet you\")\n",
    "\n",
    "t=teacher()\n",
    "t.say()\n",
    "#调用绑定函数使用类名\n",
    "teacher.sayAgain()"
   ]
  },
  {
   "cell_type": "code",
   "execution_count": 17,
   "metadata": {},
   "outputs": [
    {
     "name": "stdout",
     "output_type": "stream",
     "text": [
      "aaaa\n",
      "200\n",
      "aaaa\n",
      "200\n",
      "liuying\n",
      "18\n",
      "bbbb\n",
      "90\n"
     ]
    }
   ],
   "source": [
    "# 关于self的案例\n",
    "\n",
    "class A():\n",
    "    name = 'liuying'\n",
    "    age = 18\n",
    "    \n",
    "    def __init__(self):\n",
    "        self.name='aaaa'\n",
    "        self.age=200\n",
    "        \n",
    "    def say(self):\n",
    "        print(self.name)\n",
    "        print(self.age)\n",
    "\n",
    "class B(A):\n",
    "    name='bbbb'\n",
    "    age=90\n",
    "    \n",
    "a=A()\n",
    "# 此时，系统默认把a作为第一个参数传入函数\n",
    "a.say()\n",
    "# 此时，self被a替换\n",
    "A.say(a)\n",
    "#同样可以把calss A、B作为参数传入\n",
    "A.say(A)\n",
    "# 此时，传入的是类实例B，因为B具有name和age属性，所以不会报错\n",
    "B.say(B)\n",
    "# 以上代码，利用了鸭子模型"
   ]
  },
  {
   "cell_type": "code",
   "execution_count": null,
   "metadata": {},
   "outputs": [],
   "source": [
    "\n"
   ]
  },
  {
   "cell_type": "code",
   "execution_count": null,
   "metadata": {},
   "outputs": [],
   "source": []
  },
  {
   "cell_type": "code",
   "execution_count": null,
   "metadata": {},
   "outputs": [],
   "source": []
  },
  {
   "cell_type": "code",
   "execution_count": null,
   "metadata": {},
   "outputs": [],
   "source": []
  },
  {
   "cell_type": "code",
   "execution_count": null,
   "metadata": {},
   "outputs": [],
   "source": []
  }
 ],
 "metadata": {
  "kernelspec": {
   "display_name": "Python 3",
   "language": "python",
   "name": "python3"
  },
  "language_info": {
   "codemirror_mode": {
    "name": "ipython",
    "version": 3
   },
   "file_extension": ".py",
   "mimetype": "text/x-python",
   "name": "python",
   "nbconvert_exporter": "python",
   "pygments_lexer": "ipython3",
   "version": "3.6.5"
  }
 },
 "nbformat": 4,
 "nbformat_minor": 2
}
