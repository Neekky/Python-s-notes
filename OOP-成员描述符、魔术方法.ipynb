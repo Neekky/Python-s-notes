{
 "cells": [
  {
   "cell_type": "markdown",
   "metadata": {},
   "source": [
    "### 类的成员描述符（属性）\n",
    "类的成员描述符是为了在类中对类的成员属性进行相关操作而创建的一种方式。\n",
    "- get： 获取属性的操作\n",
    "- set： 修改或者添加属性操作\n",
    "- delete： 删除属性的操作"
   ]
  },
  {
   "cell_type": "code",
   "execution_count": 7,
   "metadata": {},
   "outputs": [
    {
     "name": "stdout",
     "output_type": "stream",
     "text": [
      "my name is Andy\n",
      "my name is Anna\n"
     ]
    }
   ],
   "source": [
    "# 属性案例\n",
    "# 创建Student类，描述学生类\n",
    "# 学生具有Student.name属性\n",
    "# 但name格式并不统一\n",
    "# 可以使用增加一个函数，然后自动调用的方式\n",
    "class Student():\n",
    "    def __init__(self,name,age):\n",
    "        self.name=name\n",
    "        self.age=age\n",
    "        self.Setname(name)\n",
    "    # 介绍下自己\n",
    "    def intro(self):\n",
    "        print('my name is {0}'.format(self.name))\n",
    "    def Setname(self,name):\n",
    "        self.name=name.capitalize()\n",
    "        \n",
    "s1 = Student('andy',19)\n",
    "s2 = Student('anna',24) \n",
    "\n",
    "s1.intro()\n",
    "s2.intro()"
   ]
  },
  {
   "cell_type": "markdown",
   "metadata": {},
   "source": [
    "### 如果想使用类的成员描述符，大概有三种方法\n",
    "- 使用类实现描述器\n",
    "- 使用属性修饰符\n",
    "- 使用property（特性）函数\n",
    "   - property函数很简单\n",
    "   - property(fget, fset, fdel, doc)\n",
    "   \n",
    "无论哪种修饰符都是为了对成员属性进行相应的控制  \n",
    "   - 类的方式： 适合多个类中的多个属性共用用一个描述符\n",
    "   - property：使用当前类中使用，可以控制一个类中多个属性\n",
    "   - 属性修饰符： 适用于当前类中使用，控制一个类中的一个属性"
   ]
  },
  {
   "cell_type": "code",
   "execution_count": 88,
   "metadata": {},
   "outputs": [],
   "source": [
    "# peroperty案例\n",
    "# 定义一个Person类，具有name，age属性\n",
    "# 对于任意输入的姓名，我们希望都用大写方式保存\n",
    "# 年龄，我们希望内部统一使用整数\n",
    "# x = (fget, fset, fdel, doc)\n",
    "class Person():\n",
    "    # 函数的名称可以任意命名\n",
    "    def fget(self):\n",
    "        return self._name * 2\n",
    "    \n",
    "    def fset(self,name):\n",
    "        # 所有输入的姓名都以大写形式保存\n",
    "        self._name = name.upper()\n",
    "        \n",
    "    def fdel(self):\n",
    "        self._name='NoName'\n",
    "\n",
    "    name = property(fget,fset,fdel)"
   ]
  },
  {
   "cell_type": "code",
   "execution_count": 89,
   "metadata": {},
   "outputs": [
    {
     "name": "stdout",
     "output_type": "stream",
     "text": [
      "ANDYANDY\n"
     ]
    }
   ],
   "source": [
    "p1=Person()\n",
    "p1.name = 'Andy'\n",
    "print(p1.name)"
   ]
  },
  {
   "cell_type": "markdown",
   "metadata": {},
   "source": [
    "Property函数使用起来很简单，如果编写了一个类只需要再添加一行代码。"
   ]
  },
  {
   "cell_type": "code",
   "execution_count": 92,
   "metadata": {},
   "outputs": [
    {
     "name": "stdout",
     "output_type": "stream",
     "text": [
      "10\n",
      "2\n",
      "50\n",
      "20\n"
     ]
    }
   ],
   "source": [
    "# peroperty案例2\n",
    "class Rectangle():\n",
    "    def __init__(self):\n",
    "        self.width=0\n",
    "        self.height=0\n",
    "    def set_size(self,size):\n",
    "        self.width,self.height=size\n",
    "    def get_size(self):\n",
    "        return self.width,self.height\n",
    "    size = property(get_size,set_size)\n",
    "    \n",
    "    \n",
    "r=Rectangle()\n",
    "r.set_size([10,2])\n",
    "print(r.width)\n",
    "print(r.height)\n",
    "\n",
    "r.size=50,20\n",
    "print(r.width)\n",
    "print(r.height)\n"
   ]
  },
  {
   "cell_type": "markdown",
   "metadata": {},
   "source": [
    "在这个Rectangle中，通过调用函数property并将存取方法作为参数（获取方法在前，存取方法在后）创建了一个特性，然后将size关联到这个特性。这样就能像调用height和weight一样直接调用size，为不需要知道它们是如何实现的。\n"
   ]
  },
  {
   "cell_type": "markdown",
   "metadata": {},
   "source": [
    "描述符相关\n",
    "property并不是函数，而是一个类。它的实例包含一些魔法方法，这些方法为：\n",
    " - `__set__`\n",
    " - `__get__`\n",
    " - `__delete__`\n",
    "只要对象实现了这些方法中的任何一个，它就是一个描述符。"
   ]
  },
  {
   "cell_type": "markdown",
   "metadata": {},
   "source": [
    "### 类的内置属性\n",
    "\\__dict__:以字典的方式显示类的成员组成\n",
    "\n",
    "\\__doc__: 获取类的文档信息\n",
    "\n",
    "\\__name__:获取类的名称，如果在模块中使用，获取模块的名称\n",
    "\n",
    "\\__bases__: 获取某个类的所有父类，以元组的方式显示"
   ]
  },
  {
   "cell_type": "code",
   "execution_count": 36,
   "metadata": {},
   "outputs": [],
   "source": [
    "class Person():\n",
    "    '''\n",
    "    一个关于人的类\n",
    "    '''\n",
    "    pass"
   ]
  },
  {
   "cell_type": "code",
   "execution_count": 31,
   "metadata": {},
   "outputs": [
    {
     "name": "stdout",
     "output_type": "stream",
     "text": [
      "{'__module__': '__main__', '__dict__': <attribute '__dict__' of 'Person' objects>, '__weakref__': <attribute '__weakref__' of 'Person' objects>, '__doc__': None}\n"
     ]
    }
   ],
   "source": [
    "print(Person.__dict__)"
   ]
  },
  {
   "cell_type": "code",
   "execution_count": 37,
   "metadata": {},
   "outputs": [
    {
     "name": "stdout",
     "output_type": "stream",
     "text": [
      "\n",
      "    一个关于人的类\n",
      "    \n"
     ]
    }
   ],
   "source": [
    "print(Person.__doc__)"
   ]
  },
  {
   "cell_type": "code",
   "execution_count": 32,
   "metadata": {},
   "outputs": [
    {
     "name": "stdout",
     "output_type": "stream",
     "text": [
      "Person\n"
     ]
    }
   ],
   "source": [
    "print(Person.__name__)"
   ]
  },
  {
   "cell_type": "code",
   "execution_count": 93,
   "metadata": {},
   "outputs": [
    {
     "name": "stdout",
     "output_type": "stream",
     "text": [
      "(<class 'object'>,)\n"
     ]
    }
   ],
   "source": [
    "print(Person.__bases__)"
   ]
  },
  {
   "cell_type": "markdown",
   "metadata": {},
   "source": [
    "## 类的魔方方法\n",
    "- 魔术方法就是不需要人为调用的方法，基本是在特定的时刻自动触发。\n",
    "- 魔术方法的统一的特征，方法名被前后各两个下滑线包裹\n",
    "\n",
    "\n",
    "- 操作类\n",
    " - `__init__`: 构造函数\n",
    " - `__new__`: 对象实例化方法，此函数较特殊，一般不需要使用\n",
    " - `__call__`: 想把实例当函数使用的时候，自动触发\n",
    " - `__str__`: 当对象被当做字符串使用的时候调用\n",
    " - `__repr__`: 返回字符串，**跟`__str__`具体区别待探讨**"
   ]
  },
  {
   "cell_type": "code",
   "execution_count": 97,
   "metadata": {},
   "outputs": [
    {
     "name": "stdout",
     "output_type": "stream",
     "text": [
      "自动被调用了\n"
     ]
    }
   ],
   "source": [
    "#  __init__ 案例\n",
    "class A():\n",
    "    def __init__(self,name = 0):\n",
    "        print('自动被调用了')\n",
    "# 创建实例时自动调用init\n",
    "a = A()"
   ]
  },
  {
   "cell_type": "code",
   "execution_count": 99,
   "metadata": {},
   "outputs": [
    {
     "name": "stdout",
     "output_type": "stream",
     "text": [
      "自动被调用了\n",
      "我被当函数调用了\n"
     ]
    }
   ],
   "source": [
    "# __call__ 案例\n",
    "class A():\n",
    "    def __init__(self,name = 0):\n",
    "        print('自动被调用了')\n",
    "    def __call__(self):\n",
    "        print('我被当函数调用了')\n",
    "a=A()\n",
    "a()"
   ]
  },
  {
   "cell_type": "code",
   "execution_count": 107,
   "metadata": {},
   "outputs": [
    {
     "name": "stdout",
     "output_type": "stream",
     "text": [
      "自动被调用了\n",
      "我被当作函数调用了\n",
      "实例被当作字符使用，我被调用了\n"
     ]
    }
   ],
   "source": [
    "# __str__ 案例\n",
    "class A():\n",
    "    def __init__(self,name = 0):\n",
    "        print('自动被调用了')\n",
    "        \n",
    "    def __call__(self):\n",
    "        print('我被当作函数调用了')\n",
    "    \n",
    "    def __str__(self):\n",
    "        return '实例被当作字符使用，我被调用了'\n",
    "    \n",
    "a=A()\n",
    "a()\n",
    "print(a)"
   ]
  },
  {
   "cell_type": "markdown",
   "metadata": {},
   "source": [
    "属性操作相关\n",
    "- `__getattr__`: 访问一个不存在的属性时触发\n",
    "\n",
    "\n",
    "- `__setattr__`: 对成员属性进行设置的时候触发\n",
    "    - 参数： \n",
    "         - self用来获取当前对象\n",
    "         - 被设置的属性名称，以字符串形式出现\n",
    "         - 需要对属性名称设置的值\n",
    "    - 作用：进行属性设置的时候进行验证或者修改\n",
    "    - 注意： 在该方法中不能对属性直接进行赋值操作，否则死循环"
   ]
  },
  {
   "cell_type": "code",
   "execution_count": 151,
   "metadata": {},
   "outputs": [
    {
     "name": "stdout",
     "output_type": "stream",
     "text": [
      "NoName\n",
      "属性不存在 <__main__.A object at 0x000001EE9AC93978>\n",
      "noth\n",
      "None\n"
     ]
    }
   ],
   "source": [
    "# __getattr__案例\n",
    "class A():\n",
    "    name='NoName'\n",
    "    age=18\n",
    "    def __getattr__(self,nothing):\n",
    "        print('属性不存在')\n",
    "        self.nothing='noth'\n",
    "        print(self.nothing)\n",
    "        \n",
    "a=A()\n",
    "print(a.name)\n",
    "print(a.addr)\n",
    "# 思考下为什么会打印None"
   ]
  },
  {
   "cell_type": "code",
   "execution_count": 140,
   "metadata": {},
   "outputs": [
    {
     "name": "stdout",
     "output_type": "stream",
     "text": [
      "{}\n",
      "设置属性： age\n",
      "设置属性： name\n"
     ]
    }
   ],
   "source": [
    "# __setattr__案例\n",
    "class Person():\n",
    "    def __init__(self):\n",
    "        pass\n",
    "    \n",
    "    def __setattr__(self,name,value):#对成员属性进行设置的时候触发\n",
    "        print('设置属性：',name)\n",
    "        # 下面语句会导致问题，死循环\n",
    "        '''self.name=value'''\n",
    "        # 为了避免死循环，规定统一调用父类魔法函数\n",
    "        # super().__setattr__(name,value) \n",
    "        # 没必要弄个这东西啊\n",
    "        \n",
    "p = Person()\n",
    "print(p.__dict__)#以字典的方式显示类的成员组成,为啥没东西显示啊\n",
    "p.age=18\n",
    "p.name='ss'  "
   ]
  },
  {
   "cell_type": "markdown",
   "metadata": {},
   "source": [
    "运算分类相关魔术方法\n",
    "   - `__gt__`: 进行大于判断的时候触发的函数\n",
    "        - 参数：\n",
    "            - self\n",
    "            - 第二个参数是第二个对象\n",
    "            - 返回值可以是任意值，推荐返回布尔值\n",
    "\n",
    "请看下面案例："
   ]
  },
  {
   "cell_type": "code",
   "execution_count": 172,
   "metadata": {},
   "outputs": [
    {
     "name": "stdout",
     "output_type": "stream",
     "text": [
      "哈哈，<__main__.Student object at 0x000001EE9ADB0940>会比<__main__.Student object at 0x000001EE9ADB0908>大吗？\n",
      "False\n"
     ]
    }
   ],
   "source": [
    "# __gt__案例\n",
    "class Student():\n",
    "    name=20\n",
    "    \n",
    "    def __init__(self,name=0):\n",
    "        self.name=name\n",
    "        \n",
    "    def __gt__(self,obj):\n",
    "        print('哈哈，{0}会比{1}大吗？'.format(self,obj))\n",
    "        return self.name>obj.name\n",
    "\n",
    "stu1=Student()\n",
    "stu2=Student(30)\n",
    "stu3=Student(50)\n",
    "print(stu1>stu2)"
   ]
  },
  {
   "cell_type": "markdown",
   "metadata": {},
   "source": [
    "# 8. 类和对象的三种方法\n",
    "- 实例方法\n",
    "    - 需要实例化对象才能使用的方法，使用过程中可能需要截止对象的其他对象的方法完成\n",
    "- 静态方法\n",
    "    - 不需要实例化，通过类直接访问\n",
    "- 类方法\n",
    "    - 不需要实例化"
   ]
  },
  {
   "cell_type": "code",
   "execution_count": 156,
   "metadata": {},
   "outputs": [
    {
     "name": "stdout",
     "output_type": "stream",
     "text": [
      "<__main__.Person object at 0x000001EE9AD2D7F0>\n",
      "Eating.....\n",
      "<class '__main__.Person'>\n",
      "Playing.....\n",
      "<class '__main__.Person'>\n",
      "Playing.....\n",
      "Saying....\n",
      "Saying....\n"
     ]
    }
   ],
   "source": [
    "# 三种方法的案例\n",
    "class Person:\n",
    "    # 实例方法\n",
    "    def eat(self):\n",
    "        print(self)\n",
    "        print(\"Eating.....\")\n",
    "    \n",
    "    #类方法\n",
    "    # 类方法的第一个参数，一般命名为cls，区别于self\n",
    "    @classmethod\n",
    "    def play(cls):\n",
    "        print(cls)\n",
    "        print(\"Playing.....\")\n",
    "        \n",
    "    # 静态方法\n",
    "    # 不需要用第一个参数表示自身或者类\n",
    "    @staticmethod\n",
    "    def say():\n",
    "    \n",
    "        print(\"Saying....\")\n",
    "        \n",
    "yueyue = Person()\n",
    "\n",
    "# 实例方法\n",
    "yueyue.eat()\n",
    "# 类方法\n",
    "Person.play()\n",
    "yueyue.play()\n",
    "#静态方法\n",
    "Person.say()\n",
    "yueyue.say()\n",
    "\n",
    "# 作业：\n",
    "# 自行查找三种方法内存使用方面的区别"
   ]
  },
  {
   "cell_type": "markdown",
   "metadata": {},
   "source": [
    "### 思考： 字符串的比较是按什么规则\n",
    "应该是按ascⅡ码来比较\n",
    "### "
   ]
  },
  {
   "cell_type": "markdown",
   "metadata": {},
   "source": [
    "# 还有很多类型的魔法方法，日后有机会去了解以下"
   ]
  }
 ],
 "metadata": {
  "kernelspec": {
   "display_name": "Python 3",
   "language": "python",
   "name": "python3"
  },
  "language_info": {
   "codemirror_mode": {
    "name": "ipython",
    "version": 3
   },
   "file_extension": ".py",
   "mimetype": "text/x-python",
   "name": "python",
   "nbconvert_exporter": "python",
   "pygments_lexer": "ipython3",
   "version": "3.6.5"
  }
 },
 "nbformat": 4,
 "nbformat_minor": 2
}
